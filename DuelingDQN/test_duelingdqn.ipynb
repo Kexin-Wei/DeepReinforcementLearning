{
 "cells": [
  {
   "cell_type": "code",
   "execution_count": 15,
   "metadata": {},
   "outputs": [],
   "source": [
    "import tensorflow as tf\n",
    "import numpy as np\n",
    "from dm_wrapper import make_env\n"
   ]
  },
  {
   "cell_type": "code",
   "execution_count": null,
   "metadata": {},
   "outputs": [],
   "source": [
    "class DDQN:\n",
    "    def __init__(self, N_ACT, N_OB,LEARNING_RATE = 0.01):\n",
    "        self.INPUT_SIZE = (84,84,4)\n",
    "        self.N_ACT = N_ACT\n",
    "        self.model = self.create_dqn()\n",
    "\n",
    "    def create_dqn(self):\n",
    "        input_layer = tf.keras.layers.Input(shape=self.INPUT_SIZE)\n",
    "        cnn1 = tf.keras.layers.Conv2D(32,8,strides=4,activation='relu')(input_layer)\n",
    "        cnn2 = tf.keras.layers.Conv2D(64,4,strides=2,activation='relu')(cnn1)\n",
    "        cnn3 = tf.keras.layers.Conv2D(64,3,strides=1,activation='relu')(cnn2)\n",
    "        flatten = tf.keras.layers.Flatten()(cnn3)\n",
    "        value = tf.keras.layers.Dense(1)(flatten)\n",
    "        advantage = tf.keras.layers.Dense(self.OUTPUT_SIZE)"
   ]
  },
  {
   "cell_type": "code",
   "execution_count": null,
   "metadata": {},
   "outputs": [],
   "source": [
    "class Replay:\n",
    "    def __init__(self, MEMORY_SIZE = 5000, BATCH_SIZE = 64):\n",
    "        self.BATCH_SIZE = BATCH_SIZE\n",
    "        self.MEMORY_SIZE = MEMORY_SIZE\n",
    "        self.memory = deque([],maxlen = MEMORY_SIZE)\n",
    "        \n",
    "    def memo_append(self, a_set_memory):\n",
    "        # a_set_memory = sars(a) : [ob, (act), reward, ob_next, done]\n",
    "        self.memory.append(a_set_memory)\n",
    "\n",
    "    def memo_len(self):\n",
    "        return len(self.memory)\n",
    "        \n",
    "    def sample(self):\n",
    "        return random.sample(self.memory,self.BATCH_SIZE)"
   ]
  },
  {
   "source": [
    "### tf.split()"
   ],
   "cell_type": "markdown",
   "metadata": {}
  },
  {
   "cell_type": "code",
   "execution_count": 24,
   "metadata": {},
   "outputs": [
    {
     "output_type": "stream",
     "name": "stdout",
     "text": [
      "(3, 3, 3)\n3\n(1, 3, 3)\n(1, 3, 3)\n(1, 3, 3)\n"
     ]
    }
   ],
   "source": [
    "x=np.random.randint(5,size=[3,3,3])\n",
    "print(x.shape)\n",
    "y=tf.split(x,3,0)\n",
    "print(len(y))\n",
    "print(y[0].shape)\n",
    "print(y[1].shape)\n",
    "print(y[2].shape)"
   ]
  }
 ],
 "metadata": {
  "kernelspec": {
   "name": "python3",
   "display_name": "Python 3",
   "language": "python"
  }
 },
 "nbformat": 4,
 "nbformat_minor": 4
}