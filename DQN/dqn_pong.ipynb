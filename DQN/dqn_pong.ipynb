{
 "cells": [
  {
   "cell_type": "markdown",
   "metadata": {},
   "source": [
    "# Atari Pong"
   ]
  },
  {
   "cell_type": "markdown",
   "metadata": {},
   "source": [
    "## Import"
   ]
  },
  {
   "cell_type": "code",
   "execution_count": 18,
   "metadata": {
    "execution": {
     "iopub.execute_input": "2020-12-10T11:18:19.277917Z",
     "iopub.status.busy": "2020-12-10T11:18:19.277695Z",
     "iopub.status.idle": "2020-12-10T11:18:19.281739Z",
     "shell.execute_reply": "2020-12-10T11:18:19.281260Z",
     "shell.execute_reply.started": "2020-12-10T11:18:19.277890Z"
    }
   },
   "outputs": [],
   "source": [
    "import tensorflow as tf\n",
    "import matplotlib.pyplot as plt\n",
    "import gym\n",
    "import os\n",
    "import datetime\n",
    "import imageio\n",
    "import numpy as np\n",
    "import argparse\n",
    "import pickle\n",
    "import shutil\n",
    "import cv2\n",
    "import random\n",
    "\n",
    "from collections import deque\n",
    "from IPython.core.debugger import set_trace"
   ]
  },
  {
   "cell_type": "markdown",
   "metadata": {
    "execution": {
     "iopub.execute_input": "2020-12-09T13:59:28.077409Z",
     "iopub.status.busy": "2020-12-09T13:59:28.077189Z",
     "iopub.status.idle": "2020-12-09T13:59:28.080354Z",
     "shell.execute_reply": "2020-12-09T13:59:28.079269Z",
     "shell.execute_reply.started": "2020-12-09T13:59:28.077384Z"
    }
   },
   "source": [
    "## Class\n",
    "- ObWrapper as env support\n",
    "  - ob->state\n",
    "  - function:\n",
    "    - wrapper_append(ob)\n",
    "    - wrapper_len()\n",
    "    - wrapper_packup()\n",
    "- Replay\n",
    "  - sample memory for train\n",
    "  - function:\n",
    "    - mome_append(a_set_memory)\n",
    "    - sample()\n",
    "- CNN\n",
    "  - create a cnn refer to dqn paper\n",
    "- Agent \n",
    "  - Replay\n",
    "  - CNN"
   ]
  },
  {
   "cell_type": "markdown",
   "metadata": {
    "execution": {
     "iopub.execute_input": "2020-12-09T11:59:26.288815Z",
     "iopub.status.busy": "2020-12-09T11:59:26.288565Z",
     "iopub.status.idle": "2020-12-09T11:59:26.291888Z",
     "shell.execute_reply": "2020-12-09T11:59:26.291044Z",
     "shell.execute_reply.started": "2020-12-09T11:59:26.288786Z"
    }
   },
   "source": [
    "### ObWrapper Class"
   ]
  },
  {
   "cell_type": "code",
   "execution_count": 19,
   "metadata": {
    "execution": {
     "iopub.execute_input": "2020-12-10T11:18:19.282757Z",
     "iopub.status.busy": "2020-12-10T11:18:19.282589Z",
     "iopub.status.idle": "2020-12-10T11:18:19.344555Z",
     "shell.execute_reply": "2020-12-10T11:18:19.344018Z",
     "shell.execute_reply.started": "2020-12-10T11:18:19.282735Z"
    }
   },
   "outputs": [],
   "source": [
    "# make sure import deque from collections \n",
    "# and opencv(cv2)\n",
    "# and numpy as np\n",
    "class ObWrapper:\n",
    "    def __init__(self, WRAPPER_SIZE = 4 ):\n",
    "        self.WRAPPER_SIZE = WRAPPER_SIZE\n",
    "        self.s = deque([],maxlen = WRAPPER_SIZE) #wrapper how many frame together\n",
    "        \n",
    "    def __call__(self,ob):\n",
    "        self.s.append(cv2.cvtColor(ob,cv2.COLOR_BGR2GRAY)[::2,::2][17:97,:])\n",
    "   \n",
    "    def __len__(self):\n",
    "        return len(self.s)\n",
    "    \n",
    "    def packup(self):\n",
    "        if len(self.s) < self.WRAPPER_SIZE:\n",
    "            return print(\"Wrapper too small, unpackable\")\n",
    "        a = np.array([self.s[i] for i in range(self.WRAPPER_SIZE)])\n",
    "        b = np.transpose(a,(1,2,0))  # or b = np.einsum('ijk->jki',a)\n",
    "        return b.reshape(-1,80,80,self.WRAPPER_SIZE)"
   ]
  },
  {
   "cell_type": "markdown",
   "metadata": {},
   "source": [
    "### Replay Class"
   ]
  },
  {
   "cell_type": "code",
   "execution_count": 20,
   "metadata": {
    "execution": {
     "iopub.execute_input": "2020-12-10T11:18:19.345939Z",
     "iopub.status.busy": "2020-12-10T11:18:19.345761Z",
     "iopub.status.idle": "2020-12-10T11:18:19.440688Z",
     "shell.execute_reply": "2020-12-10T11:18:19.440220Z",
     "shell.execute_reply.started": "2020-12-10T11:18:19.345915Z"
    }
   },
   "outputs": [],
   "source": [
    "# make sure import random\n",
    "# and deque from collections\n",
    "class Replay:\n",
    "    def __init__(self, MEMORY_SIZE = 50_000, BATCH_SIZE = 64):\n",
    "        self.BATCH_SIZE = BATCH_SIZE\n",
    "        self.MEMORY_SIZE = MEMORY_SIZE\n",
    "        self.memory = deque([],maxlen = MEMORY_SIZE)\n",
    "        \n",
    "    def memo_append(self, a_set_memory):\n",
    "        # a_set_memory = sars(a) : [ob, (act), reward, ob_next, done]\n",
    "        self.memory.append(a_set_memory)\n",
    "\n",
    "    def memo_len(self):\n",
    "        return len(self.memory)\n",
    "        \n",
    "    def sample(self):\n",
    "        return random.sample(self.memory,self.BATCH_SIZE)"
   ]
  },
  {
   "cell_type": "markdown",
   "metadata": {
    "execution": {
     "iopub.execute_input": "2020-12-10T04:03:29.075847Z",
     "iopub.status.busy": "2020-12-10T04:03:29.075609Z",
     "iopub.status.idle": "2020-12-10T04:03:29.079167Z",
     "shell.execute_reply": "2020-12-10T04:03:29.077974Z",
     "shell.execute_reply.started": "2020-12-10T04:03:29.075825Z"
    }
   },
   "source": [
    "### CNN Class"
   ]
  },
  {
   "cell_type": "code",
   "execution_count": 21,
   "metadata": {
    "execution": {
     "iopub.execute_input": "2020-12-10T11:18:19.441758Z",
     "iopub.status.busy": "2020-12-10T11:18:19.441592Z",
     "iopub.status.idle": "2020-12-10T11:18:19.501670Z",
     "shell.execute_reply": "2020-12-10T11:18:19.501209Z",
     "shell.execute_reply.started": "2020-12-10T11:18:19.441736Z"
    }
   },
   "outputs": [],
   "source": [
    "# import tensorflow as tf\n",
    "# import numpy as np\n",
    "class CNN:\n",
    "    def __init__(self,N_ACT, N_OB,\\\n",
    "                 WRAPPER_SIZE = 4,\\\n",
    "                 LEARNING_RATE = 0.01):\n",
    "        # N_OB: frame for weight, height, color_channel\n",
    "        # -> backup to n frame : weight, height, WRAPPER_SIZE\n",
    "        \n",
    "        self.INPUT_SIZE  = self.input_size([80,80], WRAPPER_SIZE)\n",
    "        self.OUTPUT_SIZE = N_ACT\n",
    "        self.LEARNING_RATE = LEARNING_RATE\n",
    "        self.model = self.create_cnn()\n",
    "        \n",
    "    def input_size(self,N_OB, WRAPPER_SIZE):\n",
    "        return (N_OB[0],N_OB[1],WRAPPER_SIZE)\n",
    "    \n",
    "    def create_cnn(self):\n",
    "        model = tf.keras.models.Sequential([\n",
    "            tf.keras.layers.Conv2D(16,8,strides = 4,input_shape =self.INPUT_SIZE,\\\n",
    "                                   activation = 'relu'),\n",
    "            tf.keras.layers.Conv2D(32,4,strides = 2, activation = 'relu'),\n",
    "            tf.keras.layers.Flatten(),\n",
    "            tf.keras.layers.Dense(256,               activation = 'relu'),\n",
    "            tf.keras.layers.Dense(self.OUTPUT_SIZE, activation = 'linear'),\n",
    "        ])\n",
    "        model.compile(\n",
    "            loss = 'huber_loss',\n",
    "            optimizer = tf.keras.optimizers.Adam(learning_rate=self.LEARNING_RATE),\n",
    "            metrics   = ['accuracy']\n",
    "        )\n",
    "        return model"
   ]
  },
  {
   "cell_type": "markdown",
   "metadata": {},
   "source": [
    "### Agent"
   ]
  },
  {
   "cell_type": "code",
   "execution_count": 22,
   "metadata": {
    "execution": {
     "iopub.execute_input": "2020-12-10T11:18:19.502556Z",
     "iopub.status.busy": "2020-12-10T11:18:19.502384Z",
     "iopub.status.idle": "2020-12-10T11:18:19.592694Z",
     "shell.execute_reply": "2020-12-10T11:18:19.592232Z",
     "shell.execute_reply.started": "2020-12-10T11:18:19.502526Z"
    }
   },
   "outputs": [],
   "source": [
    "class Agent(Replay,CNN):\n",
    "    def __init__(self, N_ACT,N_OB,\\\n",
    "                 GAMMA = 0.9, EPSILON = 0.3, EPSILON_DECAY = 0.997,\\\n",
    "                 MODEL_UPDATE_STEP = 2000, MEMORY_SAMPLE_START = 0.2,\\\n",
    "                 LEARNING_RATE = 0.01,\\\n",
    "                 MEMORY_SIZE = 50_000,BATCH_SIZE = 64,\\\n",
    "                 WRAPPER_SIZE = 4\\\n",
    "                 ):\n",
    "        Replay.__init__(self,     MEMORY_SIZE = MEMORY_SIZE,\\\n",
    "                                   BATCH_SIZE = BATCH_SIZE)\n",
    "        \n",
    "        CNN.__init__(self, N_ACT, N_OB,\\\n",
    "                      WRAPPER_SIZE = WRAPPER_SIZE,\\\n",
    "                     LEARNING_RATE = LEARNING_RATE)\n",
    "\n",
    "        self.N_ACT   = N_ACT\n",
    "        self.GAMMA   = GAMMA\n",
    "        self.EPSILON = EPSILON\n",
    "        self.EPSILON_DECAY = EPSILON_DECAY\n",
    "\n",
    "        self.target_model = self.create_cnn()\n",
    "        self.target_model.set_weights(self.model.get_weights())\n",
    "        self.MODEL_UPDATE_STEP = MODEL_UPDATE_STEP\n",
    "        self.STEP = 0\n",
    "        \n",
    "        self.MEMORY_SAMPLE_START = MEMORY_SAMPLE_START\n",
    "        \n",
    "    \n",
    "    def get_q_value(self, state):\n",
    "        # state is obwrapper.packup\n",
    "        \n",
    "        q = self.model.predict(state.packup())\n",
    "        return q\n",
    "    \n",
    "    \n",
    "    def get_action(self,state): # get action with epsilon greedy\n",
    "        if np.random.rand() < self.EPSILON:\n",
    "            return np.random.randint(self.N_ACT)\n",
    "        return np.argmax(self.get_q_value(state))\n",
    "    \n",
    "    \n",
    "    def train(self): \n",
    "        #if the momery len > 0.2 memory size\n",
    "        if self.memo_len() < self.MEMORY_SIZE * self.MEMORY_SAMPLE_START:\n",
    "            return\n",
    "        batch_memo = self.sample()\n",
    "        \n",
    "        # model for q now\n",
    "        batch_state = np.array([ a_set_memo[0][0,:,:,:] for a_set_memo in batch_memo])\n",
    "        batch_q     = self.model.predict(batch_state)\n",
    "        \n",
    "        # target_model for max q\n",
    "        batch_state_next = np.array([ a_set_memo[3][0,:,:,:] for a_set_memo in batch_memo])\n",
    "        batch_q_next = self.target_model.predict(batch_state_next)\n",
    "        \n",
    "        batch_q_new = []\n",
    "        for index,(state, action, reward, state_next, done) in enumerate(batch_memo):\n",
    "            if done:\n",
    "                q_new = reward\n",
    "            else:\n",
    "                q_new = reward + self.GAMMA * max(batch_q_next[index])\n",
    " \n",
    "            q = batch_q[index]\n",
    "            q[action] = q_new\n",
    "            batch_q_new.append(q)\n",
    "            \n",
    "        self.STEP +=1\n",
    "        self.model.fit(batch_state,np.array(batch_q_new),batch_size = self.BATCH_SIZE, verbose = 0)\n",
    "        \n",
    "    def target_model_update(self):\n",
    "        if self.STEP < self.MODEL_UPDATE_STEP:\n",
    "            return\n",
    "        self.STEP = 0\n",
    "        self.target_model.set_weights(self.model.get_weights())"
   ]
  },
  {
   "cell_type": "markdown",
   "metadata": {},
   "source": [
    "## GIF handel"
   ]
  },
  {
   "cell_type": "code",
   "execution_count": 23,
   "metadata": {
    "execution": {
     "iopub.execute_input": "2020-12-10T11:18:19.593554Z",
     "iopub.status.busy": "2020-12-10T11:18:19.593390Z",
     "iopub.status.idle": "2020-12-10T11:18:19.683685Z",
     "shell.execute_reply": "2020-12-10T11:18:19.683232Z",
     "shell.execute_reply.started": "2020-12-10T11:18:19.593532Z"
    }
   },
   "outputs": [],
   "source": [
    "def gif_save(DIR_PNG,ep,ave_reward):\n",
    "    # make gif\n",
    "    images = []\n",
    "    for f in os.listdir(DIR_PNG):\n",
    "        images.append(imageio.imread(os.path.join(DIR_PNG,f)))\n",
    "    imageio.mimsave(os.path.join(DIR,str(ep)+'_r_'+str(ave_reward)+'.gif'),images)\n",
    "    shutil.rmtree(DIR_PNG)"
   ]
  },
  {
   "cell_type": "code",
   "execution_count": 24,
   "metadata": {
    "execution": {
     "iopub.execute_input": "2020-12-10T11:18:19.684548Z",
     "iopub.status.busy": "2020-12-10T11:18:19.684385Z",
     "iopub.status.idle": "2020-12-10T11:18:19.784103Z",
     "shell.execute_reply": "2020-12-10T11:18:19.783655Z",
     "shell.execute_reply.started": "2020-12-10T11:18:19.684526Z"
    }
   },
   "outputs": [],
   "source": [
    "def png_save(DIR_PNG,env,step):\n",
    "    plt.imsave(os.path.join(DIR_PNG,str(step)+'.png'),env.render(mode='rgb_array'))"
   ]
  },
  {
   "cell_type": "markdown",
   "metadata": {},
   "source": [
    "## Train The Model        "
   ]
  },
  {
   "cell_type": "code",
   "execution_count": 25,
   "metadata": {
    "execution": {
     "iopub.execute_input": "2020-12-10T11:18:19.784938Z",
     "iopub.status.busy": "2020-12-10T11:18:19.784776Z",
     "iopub.status.idle": "2020-12-10T11:18:19.851052Z",
     "shell.execute_reply": "2020-12-10T11:18:19.850597Z",
     "shell.execute_reply.started": "2020-12-10T11:18:19.784916Z"
    }
   },
   "outputs": [],
   "source": [
    "class Args:\n",
    "    EPOCHS   = 2\n",
    "    \n",
    "    GAMMA    = 0.9\n",
    "    EPSILON  = 0.3\n",
    "    EPSILON_DECAY  = 0.9997\n",
    "    \n",
    "    LEARNING_RATE = 0.01\n",
    "    \n",
    "    BATCH_SIZE  = 64\n",
    "    MEMORY_SIZE = 5_00\n",
    "\n",
    "    MODEL_UPDATE_STEP   = 2000\n",
    "    MEMORY_SAMPLE_START = 0.2\n",
    "    \n",
    "    WRAPPER_SIZE = 4"
   ]
  },
  {
   "cell_type": "code",
   "execution_count": 26,
   "metadata": {
    "execution": {
     "iopub.execute_input": "2020-12-10T11:18:19.852765Z",
     "iopub.status.busy": "2020-12-10T11:18:19.852600Z",
     "iopub.status.idle": "2020-12-10T11:18:19.917784Z",
     "shell.execute_reply": "2020-12-10T11:18:19.917354Z",
     "shell.execute_reply.started": "2020-12-10T11:18:19.852742Z"
    }
   },
   "outputs": [],
   "source": [
    "args = Args\n",
    "EPOCHS = args.EPOCHS\n",
    "\n",
    "GAMMA   = args.GAMMA\n",
    "EPSILON = args.EPSILON\n",
    "EPSILON_DECAY = args.EPSILON_DECAY\n",
    "\n",
    "LEARNING_RATE = args.LEARNING_RATE\n",
    "\n",
    "BATCH_SIZE = args.BATCH_SIZE\n",
    "MEMORY_SIZE = args.MEMORY_SIZE\n",
    "\n",
    "MODEL_UPDATE_STEP = args.MODEL_UPDATE_STEP\n",
    "\n",
    "MEMORY_SAMPLE_START = args.MEMORY_SAMPLE_START\n",
    "\n",
    "WRAPPER_SIZE = args.WRAPPER_SIZE\n"
   ]
  },
  {
   "cell_type": "code",
   "execution_count": 27,
   "metadata": {
    "execution": {
     "iopub.execute_input": "2020-12-10T11:18:19.918725Z",
     "iopub.status.busy": "2020-12-10T11:18:19.918596Z",
     "iopub.status.idle": "2020-12-10T11:18:20.099710Z",
     "shell.execute_reply": "2020-12-10T11:18:20.099354Z",
     "shell.execute_reply.started": "2020-12-10T11:18:19.918707Z"
    }
   },
   "outputs": [],
   "source": [
    "env_name = 'Pong-v0'\n",
    "env = gym.make(env_name)\n",
    "\n",
    "N_ACT = env.action_space.n\n",
    "N_OB  = env.observation_space.shape"
   ]
  },
  {
   "cell_type": "code",
   "execution_count": 28,
   "metadata": {
    "execution": {
     "iopub.execute_input": "2020-12-10T11:18:20.100160Z",
     "iopub.status.busy": "2020-12-10T11:18:20.100074Z",
     "iopub.status.idle": "2020-12-10T11:18:20.154688Z",
     "shell.execute_reply": "2020-12-10T11:18:20.154279Z",
     "shell.execute_reply.started": "2020-12-10T11:18:20.100147Z"
    }
   },
   "outputs": [],
   "source": [
    "agent = Agent(N_ACT,N_OB,\\\n",
    "             GAMMA = GAMMA, EPSILON = EPSILON, EPSILON_DECAY = EPSILON_DECAY, \\\n",
    "             MODEL_UPDATE_STEP   = MODEL_UPDATE_STEP,   \\\n",
    "             MEMORY_SAMPLE_START = MEMORY_SAMPLE_START, \\\n",
    "             LEARNING_RATE = LEARNING_RATE, \\\n",
    "             MEMORY_SIZE   = MEMORY_SIZE,   \\\n",
    "             BATCH_SIZE    = BATCH_SIZE,    \\\n",
    "             WRAPPER_SIZE  = WRAPPER_SIZE \\\n",
    "             )"
   ]
  },
  {
   "cell_type": "markdown",
   "metadata": {},
   "source": [
    "### Main"
   ]
  },
  {
   "cell_type": "code",
   "execution_count": 29,
   "metadata": {
    "execution": {
     "iopub.execute_input": "2020-12-10T11:18:50.376797Z",
     "iopub.status.busy": "2020-12-10T11:18:50.376573Z",
     "iopub.status.idle": "2020-12-10T11:21:03.267280Z",
     "shell.execute_reply": "2020-12-10T11:21:03.266947Z",
     "shell.execute_reply.started": "2020-12-10T11:18:50.376771Z"
    }
   },
   "outputs": [
    {
     "name": "stdout",
     "output_type": "stream",
     "text": [
      "Epoch 0 - average rewards -0.017766497461928935 with step 1182\n",
      "> \u001b[0;32m<ipython-input-22-00a40cf97b53>\u001b[0m(75)\u001b[0;36mtarget_model_update\u001b[0;34m()\u001b[0m\n",
      "\u001b[0;32m     71 \u001b[0;31m        \u001b[0;32mif\u001b[0m \u001b[0mself\u001b[0m\u001b[0;34m.\u001b[0m\u001b[0mSTEP\u001b[0m \u001b[0;34m<\u001b[0m \u001b[0mself\u001b[0m\u001b[0;34m.\u001b[0m\u001b[0mMODEL_UPDATE_STEP\u001b[0m\u001b[0;34m:\u001b[0m\u001b[0;34m\u001b[0m\u001b[0;34m\u001b[0m\u001b[0m\n",
      "\u001b[0m\u001b[0;32m     72 \u001b[0;31m            \u001b[0;32mreturn\u001b[0m\u001b[0;34m\u001b[0m\u001b[0;34m\u001b[0m\u001b[0m\n",
      "\u001b[0m\u001b[0;32m     73 \u001b[0;31m        \u001b[0mself\u001b[0m\u001b[0;34m.\u001b[0m\u001b[0mSTEP\u001b[0m \u001b[0;34m=\u001b[0m \u001b[0;36m0\u001b[0m\u001b[0;34m\u001b[0m\u001b[0;34m\u001b[0m\u001b[0m\n",
      "\u001b[0m\u001b[0;32m     74 \u001b[0;31m        \u001b[0mset_trace\u001b[0m\u001b[0;34m(\u001b[0m\u001b[0;34m)\u001b[0m\u001b[0;34m\u001b[0m\u001b[0;34m\u001b[0m\u001b[0m\n",
      "\u001b[0m\u001b[0;32m---> 75 \u001b[0;31m        \u001b[0mself\u001b[0m\u001b[0;34m.\u001b[0m\u001b[0mtarget_model\u001b[0m\u001b[0;34m.\u001b[0m\u001b[0mset_weights\u001b[0m\u001b[0;34m(\u001b[0m\u001b[0mself\u001b[0m\u001b[0;34m.\u001b[0m\u001b[0mmodel\u001b[0m\u001b[0;34m.\u001b[0m\u001b[0mget_weights\u001b[0m\u001b[0;34m(\u001b[0m\u001b[0;34m)\u001b[0m\u001b[0;34m)\u001b[0m\u001b[0;34m\u001b[0m\u001b[0;34m\u001b[0m\u001b[0m\n",
      "\u001b[0m\n"
     ]
    },
    {
     "name": "stdin",
     "output_type": "stream",
     "text": [
      "ipdb>  c\n"
     ]
    },
    {
     "name": "stdout",
     "output_type": "stream",
     "text": [
      "Epoch 1 - average rewards -0.018502202643171806 with step 1135\n",
      "Show the reward every ep\n"
     ]
    },
    {
     "data": {
      "image/png": "[encoded data removed]",
      "text/plain": [
       "<Figure size 432x288 with 1 Axes>"
      ]
     },
     "metadata": {
      "needs_background": "light"
     },
     "output_type": "display_data"
    }
   ],
   "source": [
    "reward_summary = {\n",
    "    'max':[],\n",
    "    'min':[],\n",
    "    'ave':[],\n",
    "    'sum':[]\n",
    "}\n",
    "\n",
    "ROOT_DIR = '../../test_DQN'\n",
    "DIR = os.path.join(ROOT_DIR,datetime.datetime.now().strftime('%Y-%m-%d_%H-%M-%S'))\n",
    "try:\n",
    "    os.makedirs(DIR)\n",
    "except:\n",
    "    pass\n",
    "\n",
    "log_file = open(DIR+'/log.txt','w')\n",
    "\n",
    "state      = ObWrapper(WRAPPER_SIZE=WRAPPER_SIZE)\n",
    "state_next = ObWrapper(WRAPPER_SIZE=WRAPPER_SIZE)\n",
    "\n",
    "ob = env.reset()\n",
    "state_next(ob)\n",
    "while (len(state_next) is not WRAPPER_SIZE):\n",
    "    state(ob)\n",
    "    state_next(ob)\n",
    "\n",
    "DIR_PNG = os.path.join(DIR,\"temp_png\")\n",
    "# =========================================================\n",
    "for ep in range(EPOCHS):\n",
    "    \n",
    "    \n",
    "    os.mkdir(DIR_PNG) \n",
    "    \n",
    "    reward_list = []\n",
    "    step = 0\n",
    "    ob = env.reset()\n",
    "    agent.EPSILON *=agent.EPSILON_DECAY\n",
    "    \n",
    "    #======================================================\n",
    "    while(1):\n",
    "        png_save(DIR_PNG,env,step)\n",
    "        \n",
    "        state(ob)\n",
    "        act = agent.get_action(state)\n",
    "        \n",
    "        ob_next, reward, done, info = env.step(act)\n",
    "        \n",
    "        #reward = 10 if reward else -1\n",
    "        state_next(ob_next)\n",
    "        \n",
    "        agent.memo_append([state.packup(), act, reward, state_next.packup(), done])\n",
    "        agent.train()\n",
    "        agent.target_model_update()\n",
    "\n",
    "        ob = ob_next\n",
    "        step += 1\n",
    "        reward_list.append(reward)\n",
    "        \n",
    "        if done:\n",
    "            out = \"Epoch {} - average rewards {} with step {}\".format(ep,sum(reward_list)/len(reward_list),step)\n",
    "            print(out)\n",
    "            log_file.write(out+\"\\n\")\n",
    "            reward_summary['max'].append(max(reward_list))\n",
    "            reward_summary['min'].append(min(reward_list))\n",
    "            reward_summary['sum'].append(sum(reward_list))\n",
    "            reward_summary['ave'].append(sum(reward_list)/len(reward_list))\n",
    "            break\n",
    "\n",
    "    gif_save(DIR_PNG,ep,sum(reward_list)/len(reward_list))\n",
    "log_file.close()\n",
    "#=============== Show the reward every ep\n",
    "print('Show the reward every ep')\n",
    "plt.figure()\n",
    "plt.plot(reward_summary['max'],label='max')\n",
    "plt.plot(reward_summary['min'],label='min')\n",
    "plt.plot(reward_summary['ave'],label='ave')\n",
    "plt.legend(loc=2)\n",
    "plt.savefig(DIR + '/rewards.png')"
   ]
  },
  {
   "cell_type": "code",
   "execution_count": null,
   "metadata": {},
   "outputs": [],
   "source": []
  },
  {
   "cell_type": "markdown",
   "metadata": {},
   "source": [
    "reward_summary = {[max],[min],[ave]}\n",
    "\n",
    "for ep:\n",
    "\n",
    "    ob = env.reset()\n",
    "    \n",
    "    reward = []\n",
    "    save the gif\n",
    "    while(done):\n",
    "        env.reder() \n",
    "            - save png\n",
    "        act = get_action(ob)\n",
    "            \n",
    "        state<-ob\n",
    "        \n",
    "        ob_next, reward, done ,info = env.step(act)\n",
    "            reward = big if reward else -1\n",
    "            \n",
    "        state_next<-ob_next\n",
    "        \n",
    "        #=========\n",
    "        if state.len>3:\n",
    "            a-set-memory = [state,packup,(act),reward, state_next,done]\n",
    "            memo_append(a-set-memory)\n",
    "            train()\n",
    "            target_update()\n",
    "        #=========\n",
    "        \n",
    "        ob = ob_next\n",
    "        \n",
    "        reward_list.append(reward)\n",
    "        \n",
    "        if done:\n",
    "            print(step,reward)\n",
    "            log.write()\n",
    "            break\n",
    "            \n",
    "    reward_summary[max][min][ave][sum]<-reward_list\n",
    "    build_gif(ep)\n",
    "    "
   ]
  },
  {
   "cell_type": "markdown",
   "metadata": {},
   "source": [
    "### Final Run for Test"
   ]
  },
  {
   "cell_type": "code",
   "execution_count": null,
   "metadata": {},
   "outputs": [],
   "source": [
    "# print(state.packup().shape,state.s[0].shape[0],state.s[0].shape[0],WRAPPER_SIZE)"
   ]
  },
  {
   "cell_type": "code",
   "execution_count": 30,
   "metadata": {
    "execution": {
     "iopub.execute_input": "2020-12-10T11:21:11.281311Z",
     "iopub.status.busy": "2020-12-10T11:21:11.281086Z",
     "iopub.status.idle": "2020-12-10T11:21:24.536099Z",
     "shell.execute_reply": "2020-12-10T11:21:24.535329Z",
     "shell.execute_reply.started": "2020-12-10T11:21:11.281284Z"
    }
   },
   "outputs": [
    {
     "name": "stdout",
     "output_type": "stream",
     "text": [
      "Test the final round\n",
      "Final: ave rewards - -0.0206286836935167, step - 1018\n",
      "\n"
     ]
    },
    {
     "ename": "ValueError",
     "evalue": "Could not find a format to read the specified file in single-image mode",
     "output_type": "error",
     "traceback": [
      "\u001b[0;31m---------------------------------------------------------------------------\u001b[0m",
      "\u001b[0;31mValueError\u001b[0m                                Traceback (most recent call last)",
      "\u001b[0;32m<ipython-input-30-0061e31b0e96>\u001b[0m in \u001b[0;36m<module>\u001b[0;34m\u001b[0m\n\u001b[1;32m     41\u001b[0m         \u001b[0;32mbreak\u001b[0m\u001b[0;34m\u001b[0m\u001b[0;34m\u001b[0m\u001b[0m\n\u001b[1;32m     42\u001b[0m \u001b[0;34m\u001b[0m\u001b[0m\n\u001b[0;32m---> 43\u001b[0;31m \u001b[0mgif_save\u001b[0m\u001b[0;34m(\u001b[0m\u001b[0mDIR\u001b[0m\u001b[0;34m,\u001b[0m\u001b[0;34m'final'\u001b[0m\u001b[0;34m,\u001b[0m\u001b[0msum\u001b[0m\u001b[0;34m(\u001b[0m\u001b[0mreward_list\u001b[0m\u001b[0;34m)\u001b[0m\u001b[0;34m/\u001b[0m\u001b[0mlen\u001b[0m\u001b[0;34m(\u001b[0m\u001b[0mreward_list\u001b[0m\u001b[0;34m)\u001b[0m\u001b[0;34m)\u001b[0m\u001b[0;34m\u001b[0m\u001b[0;34m\u001b[0m\u001b[0m\n\u001b[0m\u001b[1;32m     44\u001b[0m \u001b[0;34m\u001b[0m\u001b[0m\n\u001b[1;32m     45\u001b[0m \u001b[0mlog_file\u001b[0m\u001b[0;34m.\u001b[0m\u001b[0mclose\u001b[0m\u001b[0;34m(\u001b[0m\u001b[0;34m)\u001b[0m\u001b[0;34m\u001b[0m\u001b[0;34m\u001b[0m\u001b[0m\n",
      "\u001b[0;32m<ipython-input-23-6915cbca0218>\u001b[0m in \u001b[0;36mgif_save\u001b[0;34m(DIR_PNG, ep, ave_reward)\u001b[0m\n\u001b[1;32m      3\u001b[0m     \u001b[0mimages\u001b[0m \u001b[0;34m=\u001b[0m \u001b[0;34m[\u001b[0m\u001b[0;34m]\u001b[0m\u001b[0;34m\u001b[0m\u001b[0;34m\u001b[0m\u001b[0m\n\u001b[1;32m      4\u001b[0m     \u001b[0;32mfor\u001b[0m \u001b[0mf\u001b[0m \u001b[0;32min\u001b[0m \u001b[0mos\u001b[0m\u001b[0;34m.\u001b[0m\u001b[0mlistdir\u001b[0m\u001b[0;34m(\u001b[0m\u001b[0mDIR_PNG\u001b[0m\u001b[0;34m)\u001b[0m\u001b[0;34m:\u001b[0m\u001b[0;34m\u001b[0m\u001b[0;34m\u001b[0m\u001b[0m\n\u001b[0;32m----> 5\u001b[0;31m         \u001b[0mimages\u001b[0m\u001b[0;34m.\u001b[0m\u001b[0mappend\u001b[0m\u001b[0;34m(\u001b[0m\u001b[0mimageio\u001b[0m\u001b[0;34m.\u001b[0m\u001b[0mimread\u001b[0m\u001b[0;34m(\u001b[0m\u001b[0mos\u001b[0m\u001b[0;34m.\u001b[0m\u001b[0mpath\u001b[0m\u001b[0;34m.\u001b[0m\u001b[0mjoin\u001b[0m\u001b[0;34m(\u001b[0m\u001b[0mDIR_PNG\u001b[0m\u001b[0;34m,\u001b[0m\u001b[0mf\u001b[0m\u001b[0;34m)\u001b[0m\u001b[0;34m)\u001b[0m\u001b[0;34m)\u001b[0m\u001b[0;34m\u001b[0m\u001b[0;34m\u001b[0m\u001b[0m\n\u001b[0m\u001b[1;32m      6\u001b[0m     \u001b[0mimageio\u001b[0m\u001b[0;34m.\u001b[0m\u001b[0mmimsave\u001b[0m\u001b[0;34m(\u001b[0m\u001b[0mos\u001b[0m\u001b[0;34m.\u001b[0m\u001b[0mpath\u001b[0m\u001b[0;34m.\u001b[0m\u001b[0mjoin\u001b[0m\u001b[0;34m(\u001b[0m\u001b[0mDIR\u001b[0m\u001b[0;34m,\u001b[0m\u001b[0mstr\u001b[0m\u001b[0;34m(\u001b[0m\u001b[0mep\u001b[0m\u001b[0;34m)\u001b[0m\u001b[0;34m+\u001b[0m\u001b[0;34m'_r_'\u001b[0m\u001b[0;34m+\u001b[0m\u001b[0mstr\u001b[0m\u001b[0;34m(\u001b[0m\u001b[0mave_reward\u001b[0m\u001b[0;34m)\u001b[0m\u001b[0;34m+\u001b[0m\u001b[0;34m'.gif'\u001b[0m\u001b[0;34m)\u001b[0m\u001b[0;34m,\u001b[0m\u001b[0mimages\u001b[0m\u001b[0;34m)\u001b[0m\u001b[0;34m\u001b[0m\u001b[0;34m\u001b[0m\u001b[0m\n\u001b[1;32m      7\u001b[0m     \u001b[0mshutil\u001b[0m\u001b[0;34m.\u001b[0m\u001b[0mrmtree\u001b[0m\u001b[0;34m(\u001b[0m\u001b[0mDIR_PNG\u001b[0m\u001b[0;34m)\u001b[0m\u001b[0;34m\u001b[0m\u001b[0;34m\u001b[0m\u001b[0m\n",
      "\u001b[0;32m~/anaconda3/envs/tf/lib/python3.7/site-packages/imageio/core/functions.py\u001b[0m in \u001b[0;36mimread\u001b[0;34m(uri, format, **kwargs)\u001b[0m\n\u001b[1;32m    263\u001b[0m \u001b[0;34m\u001b[0m\u001b[0m\n\u001b[1;32m    264\u001b[0m     \u001b[0;31m# Get reader and read first\u001b[0m\u001b[0;34m\u001b[0m\u001b[0;34m\u001b[0m\u001b[0;34m\u001b[0m\u001b[0m\n\u001b[0;32m--> 265\u001b[0;31m     \u001b[0mreader\u001b[0m \u001b[0;34m=\u001b[0m \u001b[0mread\u001b[0m\u001b[0;34m(\u001b[0m\u001b[0muri\u001b[0m\u001b[0;34m,\u001b[0m \u001b[0mformat\u001b[0m\u001b[0;34m,\u001b[0m \u001b[0;34m\"i\"\u001b[0m\u001b[0;34m,\u001b[0m \u001b[0;34m**\u001b[0m\u001b[0mkwargs\u001b[0m\u001b[0;34m)\u001b[0m\u001b[0;34m\u001b[0m\u001b[0;34m\u001b[0m\u001b[0m\n\u001b[0m\u001b[1;32m    266\u001b[0m     \u001b[0;32mwith\u001b[0m \u001b[0mreader\u001b[0m\u001b[0;34m:\u001b[0m\u001b[0;34m\u001b[0m\u001b[0;34m\u001b[0m\u001b[0m\n\u001b[1;32m    267\u001b[0m         \u001b[0;32mreturn\u001b[0m \u001b[0mreader\u001b[0m\u001b[0;34m.\u001b[0m\u001b[0mget_data\u001b[0m\u001b[0;34m(\u001b[0m\u001b[0;36m0\u001b[0m\u001b[0;34m)\u001b[0m\u001b[0;34m\u001b[0m\u001b[0;34m\u001b[0m\u001b[0m\n",
      "\u001b[0;32m~/anaconda3/envs/tf/lib/python3.7/site-packages/imageio/core/functions.py\u001b[0m in \u001b[0;36mget_reader\u001b[0;34m(uri, format, mode, **kwargs)\u001b[0m\n\u001b[1;32m    180\u001b[0m         \u001b[0mmodename\u001b[0m \u001b[0;34m=\u001b[0m \u001b[0mMODENAMES\u001b[0m\u001b[0;34m.\u001b[0m\u001b[0mget\u001b[0m\u001b[0;34m(\u001b[0m\u001b[0mmode\u001b[0m\u001b[0;34m,\u001b[0m \u001b[0mmode\u001b[0m\u001b[0;34m)\u001b[0m\u001b[0;34m\u001b[0m\u001b[0;34m\u001b[0m\u001b[0m\n\u001b[1;32m    181\u001b[0m         raise ValueError(\n\u001b[0;32m--> 182\u001b[0;31m             \u001b[0;34m\"Could not find a format to read the specified file in %s mode\"\u001b[0m \u001b[0;34m%\u001b[0m \u001b[0mmodename\u001b[0m\u001b[0;34m\u001b[0m\u001b[0;34m\u001b[0m\u001b[0m\n\u001b[0m\u001b[1;32m    183\u001b[0m         )\n\u001b[1;32m    184\u001b[0m \u001b[0;34m\u001b[0m\u001b[0m\n",
      "\u001b[0;31mValueError\u001b[0m: Could not find a format to read the specified file in single-image mode"
     ]
    }
   ],
   "source": [
    "print('Test the final round')\n",
    "# observe the final run\n",
    "\n",
    "DIR_FINAL = os.path.join(DIR,'final')\n",
    "try:\n",
    "    os.mkdir(DIR_FINAL)\n",
    "except:\n",
    "    pass\n",
    "\n",
    "log_file = open(DIR+'/log.txt','a')\n",
    "\n",
    "ob = env.reset()\n",
    "reward_list = []\n",
    "step = 0\n",
    "\n",
    "state      = ObWrapper(WRAPPER_SIZE=WRAPPER_SIZE)\n",
    "state_next = ObWrapper(WRAPPER_SIZE=WRAPPER_SIZE)\n",
    "state_next(ob)\n",
    "\n",
    "while (len(state_next) is not WRAPPER_SIZE):\n",
    "    state(ob)\n",
    "    state_next(ob)\n",
    "\n",
    "while(1):\n",
    "    png_save(DIR_FINAL,env,step)\n",
    "    state(ob)\n",
    "    \n",
    "    act = np.argmax(agent.get_q_value(state))\n",
    "\n",
    "    ob_next,reward,done,info = env.step(act)\n",
    "    state_next(ob_next)\n",
    "    \n",
    "    reward_list.append(reward)\n",
    "    step +=1\n",
    "    ob = ob_next\n",
    "    \n",
    "    if done:\n",
    "        out = 'Final: ave rewards - {}, step - {}\\n'.format(sum(reward_list)/len(reward_list),step)\n",
    "        log_file.writelines(out)\n",
    "        print(out)\n",
    "        break\n",
    "        \n",
    "gif_save(DIR_FINAL,'final',sum(reward_list)/len(reward_list))\n",
    "       \n",
    "log_file.close()\n",
    "env.close()\n",
    "print(\"Done\")"
   ]
  },
  {
   "cell_type": "code",
   "execution_count": 31,
   "metadata": {
    "execution": {
     "iopub.execute_input": "2020-12-10T11:23:23.528617Z",
     "iopub.status.busy": "2020-12-10T11:23:23.528390Z",
     "iopub.status.idle": "2020-12-10T11:23:25.178479Z",
     "shell.execute_reply": "2020-12-10T11:23:25.178056Z",
     "shell.execute_reply.started": "2020-12-10T11:23:23.528589Z"
    }
   },
   "outputs": [
    {
     "name": "stdout",
     "output_type": "stream",
     "text": [
      "Done\n"
     ]
    }
   ],
   "source": [
    "gif_save(DIR_FINAL,'final',sum(reward_list)/len(reward_list))\n",
    "       \n",
    "log_file.close()\n",
    "env.close()\n",
    "print(\"Done\")"
   ]
  },
  {
   "cell_type": "markdown",
   "metadata": {},
   "source": [
    "## Try thins here"
   ]
  },
  {
   "cell_type": "markdown",
   "metadata": {},
   "source": [
    "### Try for ObWrapper"
   ]
  },
  {
   "cell_type": "code",
   "execution_count": null,
   "metadata": {},
   "outputs": [],
   "source": [
    "print(type(ob))\n",
    "a.wrapper_append(ob)\n",
    "print(a.wrapper_len())"
   ]
  },
  {
   "cell_type": "code",
   "execution_count": null,
   "metadata": {},
   "outputs": [],
   "source": [
    "print(a.s[0].shape)\n",
    "plt.imshow(a.s[0])\n",
    "plt.show()"
   ]
  },
  {
   "cell_type": "markdown",
   "metadata": {},
   "source": [
    "### Class seperately"
   ]
  },
  {
   "cell_type": "code",
   "execution_count": null,
   "metadata": {},
   "outputs": [],
   "source": [
    "# make sure import deque from collections \n",
    "# and opencv(cv2)\n",
    "# and numpy as np\n",
    "class ObWrapper:\n",
    "    def __init__(self, WRAPPER_SIZE = 4):\n",
    "        self.WRAPPER_SIZE = WRAPPER_SIZE\n",
    "        self.s = deque([],maxlen = WRAPPER_SIZE) #wrapper how many frame together\n",
    "    def __call__(self,ob):\n",
    "        self.s.append((cv2.cvtColor(ob,cv2.COLOR_BGR2GRAY))[::2,::2][17:97,:])\n",
    "    def __len__(self):\n",
    "        return len(self.s)\n",
    "    def packup(self):\n",
    "        a = np.array([self.s[i] for i in range(self.WRAPPER_SIZE)])\n",
    "        b = np.transpose(a,(1,2,0))  # or b = np.einsum('ijk->jki',a)\n",
    "        return b"
   ]
  },
  {
   "cell_type": "code",
   "execution_count": null,
   "metadata": {},
   "outputs": [],
   "source": [
    "# make sure import random\n",
    "# and deque from collections\n",
    "class Replay:\n",
    "    def __init__(self, MEMORY_SIZE = 5_000, BATCH_SIZE = 64):\n",
    "        self.BATCH_SIZE = BATCH_SIZE\n",
    "        self.memory = deque([],maxlen = MEMORY_SIZE)\n",
    "    def __call__(self, a_set_memory):\n",
    "        # a_set_memory = sars(a) : [ob, act, reward, ob_next, done]\n",
    "        self.memory.append(a_set_memory)\n",
    "    def sample(self,*args):\n",
    "        if args:\n",
    "            b_size = args[0]\n",
    "        else:\n",
    "            b_size = self.BATCH_SIZE\n",
    "        return random.sample(self.memory,b_size)"
   ]
  },
  {
   "cell_type": "markdown",
   "metadata": {},
   "source": [
    "### Try image resize and 4 frame for input"
   ]
  },
  {
   "cell_type": "code",
   "execution_count": null,
   "metadata": {},
   "outputs": [],
   "source": [
    "DIR = 'gif'\n",
    "try:\n",
    "    os.mkdir(DIR)\n",
    "except:\n",
    "    pass"
   ]
  },
  {
   "cell_type": "code",
   "execution_count": null,
   "metadata": {},
   "outputs": [],
   "source": [
    "ob = env.reset()\n",
    "state = ObWrapper()\n",
    "state_next = ObWrapper()\n",
    "state_next(ob)\n",
    "for i in range(5):\n",
    "    plt.imsave(os.path.join(DIR,str(i)+'.png'),env.render(mode='rgb_array'))\n",
    "    act = env.action_space.sample()\n",
    "    state(ob)\n",
    "    \n",
    "    ob_next,reward, done, info = env.step(act)\n",
    "    state_next(ob_next)\n",
    "    ob = ob_next"
   ]
  },
  {
   "cell_type": "code",
   "execution_count": null,
   "metadata": {},
   "outputs": [],
   "source": [
    "print(len(state))\n",
    "print(len(state_next))\n",
    "\n",
    "print(np.array_equal(state.s[1],state_next.s[0]))\n",
    "print(np.array_equal(state.s[2],state_next.s[1]))\n",
    "print(np.array_equal(state.s[3],state_next.s[2]))\n",
    "\n",
    "print(state.s[0].shape)"
   ]
  },
  {
   "cell_type": "code",
   "execution_count": null,
   "metadata": {},
   "outputs": [],
   "source": [
    "plt.subplot(131)\n",
    "plt.imshow(state.s[1],cmap = 'gray')\n",
    "plt.axis('off')\n",
    "plt.subplot(132)\n",
    "plt.imshow(state.s[2],cmap = 'gray')\n",
    "plt.axis('off')\n",
    "plt.subplot(133)\n",
    "plt.imshow(state.s[3],cmap = 'gray')\n",
    "plt.axis('off')\n",
    "plt.show()\n",
    "\n",
    "plt.subplot(131)\n",
    "plt.imshow(state_next.s[0],cmap = 'gray')\n",
    "plt.axis('off')\n",
    "plt.subplot(132)\n",
    "plt.imshow(state_next.s[1],cmap = 'gray')\n",
    "plt.axis('off')\n",
    "plt.subplot(133)\n",
    "plt.imshow(state_next.s[2],cmap = 'gray')\n",
    "plt.axis('off')\n",
    "plt.show()"
   ]
  },
  {
   "cell_type": "markdown",
   "metadata": {},
   "source": [
    "### Try GIF display in jupyter"
   ]
  },
  {
   "cell_type": "code",
   "execution_count": null,
   "metadata": {},
   "outputs": [],
   "source": [
    "DIR = 'gif'\n",
    "os.mkdir(DIR)"
   ]
  },
  {
   "cell_type": "code",
   "execution_count": null,
   "metadata": {},
   "outputs": [],
   "source": [
    "ob = env.reset()\n",
    "\n",
    "for i in range(20):\n",
    "    plt.imsave(os.path.join(DIR,str(i)+'.png'),env.render(mode='rgb_array'))\n",
    "    env.step(env.action_space.sample())\n",
    "\n",
    "images = []\n",
    "for f in os.listdir(DIR):\n",
    "    images.append(imageio.imread(os.path.join(DIR,f)))\n",
    "imageio.mimsave(os.path.join(DIR,'test.gif'),images)"
   ]
  },
  {
   "cell_type": "code",
   "execution_count": null,
   "metadata": {},
   "outputs": [],
   "source": [
    "from IPython.display import Image\n",
    "Image(os.path.join(DIR,'test.gif'))"
   ]
  },
  {
   "cell_type": "code",
   "execution_count": null,
   "metadata": {},
   "outputs": [],
   "source": [
    "a = [84,84]\n",
    "print(tuple(a))"
   ]
  },
  {
   "cell_type": "code",
   "execution_count": null,
   "metadata": {},
   "outputs": [],
   "source": [
    "print(cv2.resize(cv2.cvtColor(ob,cv2.COLOR_BGR2GRAY),tuple(a)).shape)\n",
    "plt.imshow(cv2.cvtColor(ob,cv2.COLOR_BGR2GRAY),cmap=\"gray\")\n",
    "plt.show()\n",
    "plt.imshow(cv2.resize(cv2.cvtColor(ob,cv2.COLOR_BGR2GRAY),tuple(a)),cmap=\"gray\")\n",
    "plt.show()"
   ]
  },
  {
   "cell_type": "code",
   "execution_count": null,
   "metadata": {},
   "outputs": [],
   "source": []
  }
 ],
 "metadata": {
  "kernelspec": {
   "display_name": "Python 3",
   "language": "python",
   "name": "python3"
  },
  "language_info": {
   "codemirror_mode": {
    "name": "ipython",
    "version": 3
   },
   "file_extension": ".py",
   "mimetype": "text/x-python",
   "name": "python",
   "nbconvert_exporter": "python",
   "pygments_lexer": "ipython3",
   "version": "3.7.9"
  },
  "toc-autonumbering": true,
  "toc-showcode": false,
  "toc-showmarkdowntxt": false
 },
 "nbformat": 4,
 "nbformat_minor": 4
}
