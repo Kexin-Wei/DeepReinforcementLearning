{
 "cells": [
  {
   "cell_type": "markdown",
   "metadata": {},
   "source": [
    "# Atari Pong"
   ]
  },
  {
   "cell_type": "markdown",
   "metadata": {},
   "source": [
    "## Import"
   ]
  },
  {
   "cell_type": "code",
   "execution_count": 1,
   "metadata": {
    "execution": {
     "iopub.execute_input": "2020-12-10T10:06:32.024416Z",
     "iopub.status.busy": "2020-12-10T10:06:32.023746Z",
     "iopub.status.idle": "2020-12-10T10:06:34.009823Z",
     "shell.execute_reply": "2020-12-10T10:06:34.009018Z",
     "shell.execute_reply.started": "2020-12-10T10:06:32.024289Z"
    }
   },
   "outputs": [],
   "source": [
    "import tensorflow as tf\n",
    "import matplotlib.pyplot as plt\n",
    "import gym\n",
    "import os\n",
    "import datetime\n",
    "import imageio\n",
    "import numpy as np\n",
    "import argparse\n",
    "import pickle\n",
    "import shutil\n",
    "import cv2\n",
    "import random\n",
    "\n",
    "from collections import deque\n",
    "from IPython.core.debugger import set_trace"
   ]
  },
  {
   "cell_type": "markdown",
   "metadata": {
    "execution": {
     "iopub.execute_input": "2020-12-09T13:59:28.077409Z",
     "iopub.status.busy": "2020-12-09T13:59:28.077189Z",
     "iopub.status.idle": "2020-12-09T13:59:28.080354Z",
     "shell.execute_reply": "2020-12-09T13:59:28.079269Z",
     "shell.execute_reply.started": "2020-12-09T13:59:28.077384Z"
    }
   },
   "source": [
    "## Class\n",
    "- ObWrapper as env support\n",
    "  - ob->state\n",
    "  - function:\n",
    "    - wrapper_append(ob)\n",
    "    - wrapper_len()\n",
    "    - wrapper_packup()\n",
    "- Replay\n",
    "  - sample memory for train\n",
    "  - function:\n",
    "    - mome_append(a_set_memory)\n",
    "    - sample()\n",
    "- CNN\n",
    "  - create a cnn refer to dqn paper\n",
    "- Agent \n",
    "  - Replay\n",
    "  - CNN"
   ]
  },
  {
   "cell_type": "markdown",
   "metadata": {
    "execution": {
     "iopub.execute_input": "2020-12-09T11:59:26.288815Z",
     "iopub.status.busy": "2020-12-09T11:59:26.288565Z",
     "iopub.status.idle": "2020-12-09T11:59:26.291888Z",
     "shell.execute_reply": "2020-12-09T11:59:26.291044Z",
     "shell.execute_reply.started": "2020-12-09T11:59:26.288786Z"
    }
   },
   "source": [
    "### ObWrapper Class"
   ]
  },
  {
   "cell_type": "code",
   "execution_count": 2,
   "metadata": {
    "execution": {
     "iopub.execute_input": "2020-12-10T10:06:34.011615Z",
     "iopub.status.busy": "2020-12-10T10:06:34.011379Z",
     "iopub.status.idle": "2020-12-10T10:06:34.018209Z",
     "shell.execute_reply": "2020-12-10T10:06:34.017260Z",
     "shell.execute_reply.started": "2020-12-10T10:06:34.011587Z"
    }
   },
   "outputs": [],
   "source": [
    "# make sure import deque from collections \n",
    "# and opencv(cv2)\n",
    "# and numpy as np\n",
    "class ObWrapper:\n",
    "    def __init__(self, WRAPPER_SIZE = 4 ):\n",
    "        self.WRAPPER_SIZE = WRAPPER_SIZE\n",
    "        self.s = deque([],maxlen = WRAPPER_SIZE) #wrapper how many frame together\n",
    "        \n",
    "    def __call__(self,ob):\n",
    "        self.s.append(cv2.cvtColor(ob,cv2.COLOR_BGR2GRAY)[::2,::2][17:97,:])\n",
    "   \n",
    "    def __len__(self):\n",
    "        return len(self.s)\n",
    "    \n",
    "    def packup(self):\n",
    "        if len(self.s) < self.WRAPPER_SIZE:\n",
    "            return print(\"Wrapper too small, unpackable\")\n",
    "        a = np.array([self.s[i] for i in range(self.WRAPPER_SIZE)])\n",
    "        b = np.transpose(a,(1,2,0))  # or b = np.einsum('ijk->jki',a)\n",
    "        return b"
   ]
  },
  {
   "cell_type": "markdown",
   "metadata": {},
   "source": [
    "### Replay Class"
   ]
  },
  {
   "cell_type": "code",
   "execution_count": 3,
   "metadata": {
    "execution": {
     "iopub.execute_input": "2020-12-10T10:06:34.020089Z",
     "iopub.status.busy": "2020-12-10T10:06:34.019881Z",
     "iopub.status.idle": "2020-12-10T10:06:34.024210Z",
     "shell.execute_reply": "2020-12-10T10:06:34.023526Z",
     "shell.execute_reply.started": "2020-12-10T10:06:34.020060Z"
    }
   },
   "outputs": [],
   "source": [
    "# make sure import random\n",
    "# and deque from collections\n",
    "class Replay:\n",
    "    def __init__(self, MEMORY_SIZE = 50_000, BATCH_SIZE = 64):\n",
    "        self.BATCH_SIZE = BATCH_SIZE\n",
    "        self.MEMORY_SIZE = MEMORY_SIZE\n",
    "        self.memory = deque([],maxlen = MEMORY_SIZE)\n",
    "        \n",
    "    def memo_append(self, a_set_memory):\n",
    "        # a_set_memory = sars(a) : [ob, (act), reward, ob_next, done]\n",
    "        self.memory.append(a_set_memory)\n",
    "\n",
    "    def memo_len(self):\n",
    "        return len(self.memory)\n",
    "        \n",
    "    def sample(self):\n",
    "        return random.sample(self.memory,self.BATCH_SIZE)"
   ]
  },
  {
   "cell_type": "markdown",
   "metadata": {
    "execution": {
     "iopub.execute_input": "2020-12-10T04:03:29.075847Z",
     "iopub.status.busy": "2020-12-10T04:03:29.075609Z",
     "iopub.status.idle": "2020-12-10T04:03:29.079167Z",
     "shell.execute_reply": "2020-12-10T04:03:29.077974Z",
     "shell.execute_reply.started": "2020-12-10T04:03:29.075825Z"
    }
   },
   "source": [
    "### CNN Class"
   ]
  },
  {
   "cell_type": "code",
   "execution_count": 4,
   "metadata": {
    "execution": {
     "iopub.execute_input": "2020-12-10T10:06:34.025923Z",
     "iopub.status.busy": "2020-12-10T10:06:34.025728Z",
     "iopub.status.idle": "2020-12-10T10:06:34.032234Z",
     "shell.execute_reply": "2020-12-10T10:06:34.031516Z",
     "shell.execute_reply.started": "2020-12-10T10:06:34.025901Z"
    }
   },
   "outputs": [],
   "source": [
    "# import tensorflow as tf\n",
    "# import numpy as np\n",
    "class CNN:\n",
    "    def __init__(self,N_ACT, N_OB,\\\n",
    "                 WRAPPER_SIZE = 4,\\\n",
    "                 LEARNING_RATE = 0.01):\n",
    "        # N_OB: frame for weight, height, color_channel\n",
    "        # -> backup to n frame : weight, height, WRAPPER_SIZE\n",
    "        \n",
    "        self.INPUT_SIZE  = self.input_size([80,80], WRAPPER_SIZE)\n",
    "        self.OUTPUT_SIZE = N_ACT\n",
    "        self.LEARNING_RATE = LEARNING_RATE\n",
    "        self.model = self.create_cnn()\n",
    "        \n",
    "    def input_size(self,N_OB, WRAPPER_SIZE):\n",
    "        return (N_OB[0],N_OB[1],WRAPPER_SIZE)\n",
    "    \n",
    "    def create_cnn(self):\n",
    "        model = tf.keras.models.Sequential([\n",
    "            tf.keras.layers.Conv2D(16,8,strides = 4,input_shape =self.INPUT_SIZE,\\\n",
    "                                   activation = 'relu'),\n",
    "            tf.keras.layers.Conv2D(32,4,strides = 2, activation = 'relu'),\n",
    "            tf.keras.layers.Flatten(),\n",
    "            tf.keras.layers.Dense(256,               activation = 'relu'),\n",
    "            tf.keras.layers.Dense(self.OUTPUT_SIZE, activation = 'linear'),\n",
    "        ])\n",
    "        model.compile(\n",
    "            loss = 'huber_loss',\n",
    "            optimizer = tf.keras.optimizers.Adam(learning_rate=self.LEARNING_RATE),\n",
    "            metrics   = ['accuracy']\n",
    "        )\n",
    "        return model"
   ]
  },
  {
   "cell_type": "markdown",
   "metadata": {},
   "source": [
    "### Agent"
   ]
  },
  {
   "cell_type": "code",
   "execution_count": 5,
   "metadata": {
    "execution": {
     "iopub.execute_input": "2020-12-10T10:06:34.033519Z",
     "iopub.status.busy": "2020-12-10T10:06:34.033302Z",
     "iopub.status.idle": "2020-12-10T10:06:34.043867Z",
     "shell.execute_reply": "2020-12-10T10:06:34.043119Z",
     "shell.execute_reply.started": "2020-12-10T10:06:34.033495Z"
    }
   },
   "outputs": [],
   "source": [
    "class Agent(Replay,CNN):\n",
    "    def __init__(self, N_ACT,N_OB,\\\n",
    "                 GAMMA = 0.9, EPSILON = 0.3, EPSILON_DECAY = 0.997,\\\n",
    "                 MODEL_UPDATE_STEP = 2000, MEMORY_SAMPLE_START = 0.2,\\\n",
    "                 LEARNING_RATE = 0.01,\\\n",
    "                 MEMORY_SIZE = 50_000,BATCH_SIZE = 64,\\\n",
    "                 WRAPPER_SIZE = 4\\\n",
    "                 ):\n",
    "        Replay.__init__(self,     MEMORY_SIZE = MEMORY_SIZE,\\\n",
    "                                   BATCH_SIZE = BATCH_SIZE)\n",
    "        \n",
    "        CNN.__init__(self, N_ACT, N_OB,\\\n",
    "                      WRAPPER_SIZE = WRAPPER_SIZE,\\\n",
    "                     LEARNING_RATE = LEARNING_RATE)\n",
    "\n",
    "        self.N_ACT   = N_ACT\n",
    "        self.GAMMA   = GAMMA\n",
    "        self.EPSILON = EPSILON\n",
    "        self.EPSILON_DECAY = EPSILON_DECAY\n",
    "\n",
    "        self.target_model = self.create_cnn()\n",
    "        self.target_model.set_weights(self.model.get_weights())\n",
    "        self.MODEL_UPDATE_STEP = MODEL_UPDATE_STEP\n",
    "        self.STEP = 0\n",
    "        \n",
    "        self.MEMORY_SAMPLE_START = MEMORY_SAMPLE_START\n",
    "        \n",
    "    \n",
    "    def get_q_value(self, state):\n",
    "        # state is obwrapper.packup\n",
    "        set_trace()\n",
    "        q = self.model.predict(state)\n",
    "        return q\n",
    "    \n",
    "    \n",
    "    def get_action(self,state): # get action with epsilon greedy\n",
    "        if np.random.rand() < self.EPSILON:\n",
    "            return np.random.randint(self.N_ACT)\n",
    "        return np.argmax(self.get_q_value(state))\n",
    "    \n",
    "    \n",
    "    def train(self): \n",
    "        #if the momery len > 0.2 memory size\n",
    "        if self.memo_len() < self.MEMORY_SIZE * self.MEMORY_SAMPLE_START:\n",
    "            return\n",
    "        set_trace()\n",
    "        batch_memo = self.sample()\n",
    "        print(len(batch_memo))\n",
    "        \n",
    "        batch_state = np.array([ a_set_memo[0] for a_set_memo in batch_memo])\n",
    "        print(batch_state.shape)\n",
    "        set_trace()\n",
    "        \n",
    "        batch_state_next = np.array([ a_set_memo[2] for a_set_memo in batch_memo])\n",
    "        print(batch_state_next.shape)\n",
    "        set_trace()\n",
    "        \n",
    "        batch_q_next = self.model.predict(batch_state_next)\n",
    "\n",
    "        batch_q_new = []\n",
    "        for index,(state, reward, state_next, done) in enumerate(batch_memo):\n",
    "            if done:\n",
    "                q_new = reward\n",
    "            else:\n",
    "                q_new = reward + self.GAMMA * max(batch_q_next[index])\n",
    "                set_trace()\n",
    "            batch_q_new.append(q_new)\n",
    "        print(np.array(batch_q_new).shape)\n",
    "        set_trace()\n",
    "        self.STEP +=1\n",
    "        self.model.fit(batch_state,np.array(batch_q_new),batch_size = self.BATCH_SIZE, verbose = 0)\n",
    "        \n",
    "    def target_model_update(self):\n",
    "        if self.STEP < self.MODEL_UPDATE_STEP:\n",
    "            return\n",
    "        self.STEP = 0\n",
    "        set_trace()\n",
    "        self.target_model.set_weights(self.model.get_weights())"
   ]
  },
  {
   "cell_type": "markdown",
   "metadata": {},
   "source": [
    "## GIF handel"
   ]
  },
  {
   "cell_type": "code",
   "execution_count": 6,
   "metadata": {
    "execution": {
     "iopub.execute_input": "2020-12-10T10:06:34.045470Z",
     "iopub.status.busy": "2020-12-10T10:06:34.045129Z",
     "iopub.status.idle": "2020-12-10T10:06:34.051277Z",
     "shell.execute_reply": "2020-12-10T10:06:34.050397Z",
     "shell.execute_reply.started": "2020-12-10T10:06:34.045442Z"
    }
   },
   "outputs": [],
   "source": [
    "def gif_save(DIR,ep,ave_reward):\n",
    "    DIR_PNG = os.path.join(DIR,\"temp_png\")\n",
    "    # make gif\n",
    "    images = []\n",
    "    for f in os.listdir(DIR_PNG):\n",
    "        images.append(imageio.imread(os.path.join(DIR_PNG,f)))\n",
    "    imageio.mimsave(os.path.join(DIR,str(ep)+'_r_'+str(ave_reward)+'.gif'),images)\n",
    "    shutil.rmtree(DIR_PNG)"
   ]
  },
  {
   "cell_type": "code",
   "execution_count": 7,
   "metadata": {
    "execution": {
     "iopub.execute_input": "2020-12-10T10:06:34.052823Z",
     "iopub.status.busy": "2020-12-10T10:06:34.052398Z",
     "iopub.status.idle": "2020-12-10T10:06:34.056759Z",
     "shell.execute_reply": "2020-12-10T10:06:34.056112Z",
     "shell.execute_reply.started": "2020-12-10T10:06:34.052784Z"
    }
   },
   "outputs": [],
   "source": [
    "def png_save(DIR_PNG,env,step):\n",
    "    plt.imsave(os.path.join(DIR_PNG,str(step)+'.png'),env.render(mode='rgb_array'))"
   ]
  },
  {
   "cell_type": "markdown",
   "metadata": {},
   "source": [
    "## Train The Model        "
   ]
  },
  {
   "cell_type": "code",
   "execution_count": null,
   "metadata": {
    "execution": {
     "iopub.status.busy": "2020-12-10T10:10:45.581137Z",
     "iopub.status.idle": "2020-12-10T10:10:45.581588Z"
    }
   },
   "outputs": [],
   "source": [
    "class Args:\n",
    "    EPOCHS      = 2\n",
    "    \n",
    "    GAMMA    = 0.9\n",
    "    EPSILON  = 0.3\n",
    "    EPSILON_DECAY  = 0.9997\n",
    "    \n",
    "    LEARNING_RATE = 0.01\n",
    "    \n",
    "    BATCH_SIZE  = 64\n",
    "    MEMORY_SIZE = 5_00\n",
    "\n",
    "    MODEL_UPDATE_STEP   = 2000\n",
    "    MEMORY_SAMPLE_START = 0.2\n",
    "    \n",
    "    WRAPPER_SIZE = 4"
   ]
  },
  {
   "cell_type": "code",
   "execution_count": 9,
   "metadata": {
    "execution": {
     "iopub.execute_input": "2020-12-10T10:06:34.064391Z",
     "iopub.status.busy": "2020-12-10T10:06:34.064190Z",
     "iopub.status.idle": "2020-12-10T10:06:34.068348Z",
     "shell.execute_reply": "2020-12-10T10:06:34.067611Z",
     "shell.execute_reply.started": "2020-12-10T10:06:34.064369Z"
    }
   },
   "outputs": [],
   "source": [
    "args = Args\n",
    "EPOCHS = args.EPOCHS\n",
    "\n",
    "GAMMA   = args.GAMMA\n",
    "EPSILON = args.EPSILON\n",
    "EPSILON_DECAY = args.EPSILON_DECAY\n",
    "\n",
    "LEARNING_RATE = args.LEARNING_RATE\n",
    "\n",
    "BATCH_SIZE = args.BATCH_SIZE\n",
    "MEMORY_SIZE = args.MEMORY_SIZE\n",
    "\n",
    "MODEL_UPDATE_STEP = args.MODEL_UPDATE_STEP\n",
    "\n",
    "MEMORY_SAMPLE_START = args.MEMORY_SAMPLE_START\n",
    "\n",
    "WRAPPER_SIZE = args.WRAPPER_SIZE\n"
   ]
  },
  {
   "cell_type": "code",
   "execution_count": 10,
   "metadata": {
    "execution": {
     "iopub.execute_input": "2020-12-10T10:06:34.069859Z",
     "iopub.status.busy": "2020-12-10T10:06:34.069633Z",
     "iopub.status.idle": "2020-12-10T10:06:34.207249Z",
     "shell.execute_reply": "2020-12-10T10:06:34.206508Z",
     "shell.execute_reply.started": "2020-12-10T10:06:34.069832Z"
    }
   },
   "outputs": [],
   "source": [
    "env_name = 'Pong-v0'\n",
    "env = gym.make(env_name)\n",
    "\n",
    "N_ACT = env.action_space.n\n",
    "N_OB  = env.observation_space.shape"
   ]
  },
  {
   "cell_type": "code",
   "execution_count": 11,
   "metadata": {
    "execution": {
     "iopub.execute_input": "2020-12-10T10:06:34.208998Z",
     "iopub.status.busy": "2020-12-10T10:06:34.208495Z",
     "iopub.status.idle": "2020-12-10T10:06:34.316821Z",
     "shell.execute_reply": "2020-12-10T10:06:34.316106Z",
     "shell.execute_reply.started": "2020-12-10T10:06:34.208962Z"
    }
   },
   "outputs": [],
   "source": [
    "agent = Agent(N_ACT,N_OB,\\\n",
    "             GAMMA = GAMMA, EPSILON = EPOCHS, EPSILON_DECAY = EPSILON_DECAY, \\\n",
    "             MODEL_UPDATE_STEP   = MODEL_UPDATE_STEP,   \\\n",
    "             MEMORY_SAMPLE_START = MEMORY_SAMPLE_START, \\\n",
    "             LEARNING_RATE = LEARNING_RATE, \\\n",
    "             MEMORY_SIZE   = MEMORY_SIZE,   \\\n",
    "             BATCH_SIZE    = BATCH_SIZE,    \\\n",
    "             WRAPPER_SIZE  = WRAPPER_SIZE \\\n",
    "             )"
   ]
  },
  {
   "cell_type": "markdown",
   "metadata": {},
   "source": [
    "### Main"
   ]
  },
  {
   "cell_type": "code",
   "execution_count": 13,
   "metadata": {
    "execution": {
     "iopub.execute_input": "2020-12-10T10:07:36.484154Z",
     "iopub.status.busy": "2020-12-10T10:07:36.483766Z",
     "iopub.status.idle": "2020-12-10T10:07:55.044957Z",
     "shell.execute_reply": "2020-12-10T10:07:55.044057Z",
     "shell.execute_reply.started": "2020-12-10T10:07:36.484109Z"
    }
   },
   "outputs": [
    {
     "name": "stdout",
     "output_type": "stream",
     "text": [
      "Epoch 0 - average rewards -0.009450679267572357 with step 1693\n",
      "Epoch 1 - average rewards -0.01445966514459665 with step 1314\n",
      "Show the reward every ep\n"
     ]
    },
    {
     "data": {
      "image/png": "[encoded data removed]",
      "text/plain": [
       "<Figure size 432x288 with 1 Axes>"
      ]
     },
     "metadata": {
      "needs_background": "light"
     },
     "output_type": "display_data"
    }
   ],
   "source": [
    "reward_summary = {\n",
    "    'max':[],\n",
    "    'min':[],\n",
    "    'ave':[],\n",
    "    'sum':[]\n",
    "}\n",
    "\n",
    "ROOT_DIR = 'test_DQN'\n",
    "DIR = os.path.join(ROOT_DIR,datetime.datetime.now().strftime('%Y-%m-%d_%H-%M-%S'))\n",
    "try:\n",
    "    os.makedirs(DIR)\n",
    "except:\n",
    "    pass\n",
    "\n",
    "log_file = open(DIR+'/log.txt','w')\n",
    "\n",
    "state      = ObWrapper(WRAPPER_SIZE=WRAPPER_SIZE)\n",
    "state_next = ObWrapper(WRAPPER_SIZE=WRAPPER_SIZE)\n",
    "\n",
    "ob = env.reset()\n",
    "state_next(ob)\n",
    "while (len(state_next) is not WRAPPER_SIZE):\n",
    "    state(ob)\n",
    "    state_next(ob)\n",
    "    \n",
    "# =========================================================\n",
    "for ep in range(EPOCHS):\n",
    "    \n",
    "    DIR_PNG = os.path.join(DIR,\"temp_png\")\n",
    "    os.mkdir(DIR_PNG) \n",
    "    \n",
    "    reward_list = []\n",
    "    step = 0\n",
    "    ob = env.reset()\n",
    "    agent.EPSILON *=agent.EPSILON_DECAY\n",
    "    \n",
    "    #======================================================\n",
    "    while(1):\n",
    "        png_save(DIR_PNG,env,step)\n",
    "        \n",
    "        state(ob)\n",
    "        act = agent.get_action(state.packup())\n",
    "        \n",
    "        ob_next, reward, done, info = env.step(act)\n",
    "        \n",
    "        #reward = 10 if reward else -1\n",
    "        state_next(ob_next)\n",
    "        \n",
    "        agent.memo_append([state.packup(), reward, state_next.packup(), done])\n",
    "        agent.train()\n",
    "        agent.target_model_update()\n",
    "\n",
    "        ob = ob_next\n",
    "        step += 1\n",
    "        reward_list.append(reward)\n",
    "        \n",
    "        if done:\n",
    "            out = \"Epoch {} - average rewards {} with step {}\".format(ep,sum(reward_list)/len(reward_list),step)\n",
    "            print(out)\n",
    "            log_file.write(out+\"\\n\")\n",
    "            reward_summary['max'].append(max(reward_list))\n",
    "            reward_summary['min'].append(min(reward_list))\n",
    "            reward_summary['sum'].append(sum(reward_list))\n",
    "            reward_summary['ave'].append(sum(reward_list)/len(reward_list))\n",
    "            break\n",
    "\n",
    "    gif_save(DIR,ep,sum(reward_list)/len(reward_list))\n",
    "log_file.close()\n",
    "#=============== Show the reward every ep\n",
    "print('Show the reward every ep')\n",
    "plt.figure()\n",
    "plt.plot(reward_summary['max'],label='max')\n",
    "plt.plot(reward_summary['min'],label='min')\n",
    "plt.plot(reward_summary['ave'],label='ave')\n",
    "plt.legend(loc=2)\n",
    "plt.savefig(DIR + '/rewards.png')"
   ]
  },
  {
   "cell_type": "markdown",
   "metadata": {},
   "source": [
    "reward_summary = {[max],[min],[ave]}\n",
    "\n",
    "for ep:\n",
    "\n",
    "    ob = env.reset()\n",
    "    \n",
    "    reward = []\n",
    "    save the gif\n",
    "    while(done):\n",
    "        env.reder() \n",
    "            - save png\n",
    "        act = get_action(ob)\n",
    "            \n",
    "        state<-ob\n",
    "        \n",
    "        ob_next, reward, done ,info = env.step(act)\n",
    "            reward = big if reward else -1\n",
    "            \n",
    "        state_next<-ob_next\n",
    "        \n",
    "        #=========\n",
    "        if state.len>3:\n",
    "            a-set-memory = [state,packup,(act),reward, state_next,done]\n",
    "            memo_append(a-set-memory)\n",
    "            train()\n",
    "            target_update()\n",
    "        #=========\n",
    "        \n",
    "        ob = ob_next\n",
    "        \n",
    "        reward_list.append(reward)\n",
    "        \n",
    "        if done:\n",
    "            print(step,reward)\n",
    "            log.write()\n",
    "            break\n",
    "            \n",
    "    reward_summary[max][min][ave][sum]<-reward_list\n",
    "    build_gif(ep)\n",
    "    "
   ]
  },
  {
   "cell_type": "markdown",
   "metadata": {},
   "source": [
    "### Final Run for Test"
   ]
  },
  {
   "cell_type": "code",
   "execution_count": 15,
   "metadata": {
    "execution": {
     "iopub.execute_input": "2020-12-10T10:08:33.082487Z",
     "iopub.status.busy": "2020-12-10T10:08:33.082139Z",
     "iopub.status.idle": "2020-12-10T10:08:33.088113Z",
     "shell.execute_reply": "2020-12-10T10:08:33.086949Z",
     "shell.execute_reply.started": "2020-12-10T10:08:33.082447Z"
    }
   },
   "outputs": [
    {
     "name": "stdout",
     "output_type": "stream",
     "text": [
      "(80, 80, 4) 80 80 4\n"
     ]
    }
   ],
   "source": [
    "print(state.packup().shape,state.s[0].shape[0],state.s[0].shape[0],WRAPPER_SIZE)"
   ]
  },
  {
   "cell_type": "code",
   "execution_count": 16,
   "metadata": {
    "execution": {
     "iopub.execute_input": "2020-12-10T10:08:36.195098Z",
     "iopub.status.busy": "2020-12-10T10:08:36.194670Z",
     "iopub.status.idle": "2020-12-10T10:10:45.579759Z",
     "shell.execute_reply": "2020-12-10T10:10:45.578037Z",
     "shell.execute_reply.started": "2020-12-10T10:08:36.195049Z"
    }
   },
   "outputs": [
    {
     "name": "stdout",
     "output_type": "stream",
     "text": [
      "Test the final round\n",
      "> \u001b[0;32m<ipython-input-16-dd977dd218f8>\u001b[0m(27)\u001b[0;36m<module>\u001b[0;34m()\u001b[0m\n",
      "\u001b[0;32m     25 \u001b[0;31m    \u001b[0mpng_save\u001b[0m\u001b[0;34m(\u001b[0m\u001b[0mDIR_FINAL\u001b[0m\u001b[0;34m,\u001b[0m\u001b[0menv\u001b[0m\u001b[0;34m,\u001b[0m\u001b[0mstep\u001b[0m\u001b[0;34m)\u001b[0m\u001b[0;34m\u001b[0m\u001b[0;34m\u001b[0m\u001b[0m\n",
      "\u001b[0m\u001b[0;32m     26 \u001b[0;31m    \u001b[0mset_trace\u001b[0m\u001b[0;34m(\u001b[0m\u001b[0;34m)\u001b[0m\u001b[0;34m\u001b[0m\u001b[0;34m\u001b[0m\u001b[0m\n",
      "\u001b[0m\u001b[0;32m---> 27 \u001b[0;31m    \u001b[0mstate\u001b[0m\u001b[0;34m(\u001b[0m\u001b[0mob\u001b[0m\u001b[0;34m)\u001b[0m\u001b[0;34m\u001b[0m\u001b[0;34m\u001b[0m\u001b[0m\n",
      "\u001b[0m\u001b[0;32m     28 \u001b[0;31m    \u001b[0mstate_np\u001b[0m \u001b[0;34m=\u001b[0m \u001b[0mstate\u001b[0m\u001b[0;34m.\u001b[0m\u001b[0mpackup\u001b[0m\u001b[0;34m(\u001b[0m\u001b[0;34m)\u001b[0m\u001b[0;34m\u001b[0m\u001b[0;34m\u001b[0m\u001b[0m\n",
      "\u001b[0m\u001b[0;32m     29 \u001b[0;31m    \u001b[0mact\u001b[0m \u001b[0;34m=\u001b[0m \u001b[0mnp\u001b[0m\u001b[0;34m.\u001b[0m\u001b[0margmax\u001b[0m\u001b[0;34m(\u001b[0m\u001b[0magent\u001b[0m\u001b[0;34m.\u001b[0m\u001b[0mget_q_value\u001b[0m\u001b[0;34m(\u001b[0m\u001b[0mstate_np\u001b[0m\u001b[0;34m.\u001b[0m\u001b[0mreshape\u001b[0m\u001b[0;34m(\u001b[0m\u001b[0;34m-\u001b[0m\u001b[0;36m1\u001b[0m\u001b[0;34m,\u001b[0m\u001b[0mstate\u001b[0m\u001b[0;34m.\u001b[0m\u001b[0ms\u001b[0m\u001b[0;34m[\u001b[0m\u001b[0;36m0\u001b[0m\u001b[0;34m]\u001b[0m\u001b[0;34m.\u001b[0m\u001b[0mshape\u001b[0m\u001b[0;34m[\u001b[0m\u001b[0;36m0\u001b[0m\u001b[0;34m]\u001b[0m\u001b[0;34m,\u001b[0m\u001b[0mstate\u001b[0m\u001b[0;34m.\u001b[0m\u001b[0ms\u001b[0m\u001b[0;34m[\u001b[0m\u001b[0;36m0\u001b[0m\u001b[0;34m]\u001b[0m\u001b[0;34m.\u001b[0m\u001b[0mshape\u001b[0m\u001b[0;34m[\u001b[0m\u001b[0;36m0\u001b[0m\u001b[0;34m]\u001b[0m\u001b[0;34m,\u001b[0m\u001b[0mWRAPPER_SIZE\u001b[0m\u001b[0;34m)\u001b[0m\u001b[0;34m)\u001b[0m\u001b[0;34m)\u001b[0m\u001b[0;34m\u001b[0m\u001b[0;34m\u001b[0m\u001b[0m\n",
      "\u001b[0m\n"
     ]
    },
    {
     "name": "stdin",
     "output_type": "stream",
     "text": [
      "ipdb>  n\n"
     ]
    },
    {
     "name": "stdout",
     "output_type": "stream",
     "text": [
      "> \u001b[0;32m<ipython-input-16-dd977dd218f8>\u001b[0m(28)\u001b[0;36m<module>\u001b[0;34m()\u001b[0m\n",
      "\u001b[0;32m     26 \u001b[0;31m    \u001b[0mset_trace\u001b[0m\u001b[0;34m(\u001b[0m\u001b[0;34m)\u001b[0m\u001b[0;34m\u001b[0m\u001b[0;34m\u001b[0m\u001b[0m\n",
      "\u001b[0m\u001b[0;32m     27 \u001b[0;31m    \u001b[0mstate\u001b[0m\u001b[0;34m(\u001b[0m\u001b[0mob\u001b[0m\u001b[0;34m)\u001b[0m\u001b[0;34m\u001b[0m\u001b[0;34m\u001b[0m\u001b[0m\n",
      "\u001b[0m\u001b[0;32m---> 28 \u001b[0;31m    \u001b[0mstate_np\u001b[0m \u001b[0;34m=\u001b[0m \u001b[0mstate\u001b[0m\u001b[0;34m.\u001b[0m\u001b[0mpackup\u001b[0m\u001b[0;34m(\u001b[0m\u001b[0;34m)\u001b[0m\u001b[0;34m\u001b[0m\u001b[0;34m\u001b[0m\u001b[0m\n",
      "\u001b[0m\u001b[0;32m     29 \u001b[0;31m    \u001b[0mact\u001b[0m \u001b[0;34m=\u001b[0m \u001b[0mnp\u001b[0m\u001b[0;34m.\u001b[0m\u001b[0margmax\u001b[0m\u001b[0;34m(\u001b[0m\u001b[0magent\u001b[0m\u001b[0;34m.\u001b[0m\u001b[0mget_q_value\u001b[0m\u001b[0;34m(\u001b[0m\u001b[0mstate_np\u001b[0m\u001b[0;34m.\u001b[0m\u001b[0mreshape\u001b[0m\u001b[0;34m(\u001b[0m\u001b[0;34m-\u001b[0m\u001b[0;36m1\u001b[0m\u001b[0;34m,\u001b[0m\u001b[0mstate\u001b[0m\u001b[0;34m.\u001b[0m\u001b[0ms\u001b[0m\u001b[0;34m[\u001b[0m\u001b[0;36m0\u001b[0m\u001b[0;34m]\u001b[0m\u001b[0;34m.\u001b[0m\u001b[0mshape\u001b[0m\u001b[0;34m[\u001b[0m\u001b[0;36m0\u001b[0m\u001b[0;34m]\u001b[0m\u001b[0;34m,\u001b[0m\u001b[0mstate\u001b[0m\u001b[0;34m.\u001b[0m\u001b[0ms\u001b[0m\u001b[0;34m[\u001b[0m\u001b[0;36m0\u001b[0m\u001b[0;34m]\u001b[0m\u001b[0;34m.\u001b[0m\u001b[0mshape\u001b[0m\u001b[0;34m[\u001b[0m\u001b[0;36m0\u001b[0m\u001b[0;34m]\u001b[0m\u001b[0;34m,\u001b[0m\u001b[0mWRAPPER_SIZE\u001b[0m\u001b[0;34m)\u001b[0m\u001b[0;34m)\u001b[0m\u001b[0;34m)\u001b[0m\u001b[0;34m\u001b[0m\u001b[0;34m\u001b[0m\u001b[0m\n",
      "\u001b[0m\u001b[0;32m     30 \u001b[0;31m\u001b[0;34m\u001b[0m\u001b[0m\n",
      "\u001b[0m\n"
     ]
    },
    {
     "name": "stdin",
     "output_type": "stream",
     "text": [
      "ipdb>  n\n"
     ]
    },
    {
     "name": "stdout",
     "output_type": "stream",
     "text": [
      "> \u001b[0;32m<ipython-input-16-dd977dd218f8>\u001b[0m(29)\u001b[0;36m<module>\u001b[0;34m()\u001b[0m\n",
      "\u001b[0;32m     27 \u001b[0;31m    \u001b[0mstate\u001b[0m\u001b[0;34m(\u001b[0m\u001b[0mob\u001b[0m\u001b[0;34m)\u001b[0m\u001b[0;34m\u001b[0m\u001b[0;34m\u001b[0m\u001b[0m\n",
      "\u001b[0m\u001b[0;32m     28 \u001b[0;31m    \u001b[0mstate_np\u001b[0m \u001b[0;34m=\u001b[0m \u001b[0mstate\u001b[0m\u001b[0;34m.\u001b[0m\u001b[0mpackup\u001b[0m\u001b[0;34m(\u001b[0m\u001b[0;34m)\u001b[0m\u001b[0;34m\u001b[0m\u001b[0;34m\u001b[0m\u001b[0m\n",
      "\u001b[0m\u001b[0;32m---> 29 \u001b[0;31m    \u001b[0mact\u001b[0m \u001b[0;34m=\u001b[0m \u001b[0mnp\u001b[0m\u001b[0;34m.\u001b[0m\u001b[0margmax\u001b[0m\u001b[0;34m(\u001b[0m\u001b[0magent\u001b[0m\u001b[0;34m.\u001b[0m\u001b[0mget_q_value\u001b[0m\u001b[0;34m(\u001b[0m\u001b[0mstate_np\u001b[0m\u001b[0;34m.\u001b[0m\u001b[0mreshape\u001b[0m\u001b[0;34m(\u001b[0m\u001b[0;34m-\u001b[0m\u001b[0;36m1\u001b[0m\u001b[0;34m,\u001b[0m\u001b[0mstate\u001b[0m\u001b[0;34m.\u001b[0m\u001b[0ms\u001b[0m\u001b[0;34m[\u001b[0m\u001b[0;36m0\u001b[0m\u001b[0;34m]\u001b[0m\u001b[0;34m.\u001b[0m\u001b[0mshape\u001b[0m\u001b[0;34m[\u001b[0m\u001b[0;36m0\u001b[0m\u001b[0;34m]\u001b[0m\u001b[0;34m,\u001b[0m\u001b[0mstate\u001b[0m\u001b[0;34m.\u001b[0m\u001b[0ms\u001b[0m\u001b[0;34m[\u001b[0m\u001b[0;36m0\u001b[0m\u001b[0;34m]\u001b[0m\u001b[0;34m.\u001b[0m\u001b[0mshape\u001b[0m\u001b[0;34m[\u001b[0m\u001b[0;36m0\u001b[0m\u001b[0;34m]\u001b[0m\u001b[0;34m,\u001b[0m\u001b[0mWRAPPER_SIZE\u001b[0m\u001b[0;34m)\u001b[0m\u001b[0;34m)\u001b[0m\u001b[0;34m)\u001b[0m\u001b[0;34m\u001b[0m\u001b[0;34m\u001b[0m\u001b[0m\n",
      "\u001b[0m\u001b[0;32m     30 \u001b[0;31m\u001b[0;34m\u001b[0m\u001b[0m\n",
      "\u001b[0m\u001b[0;32m     31 \u001b[0;31m    \u001b[0mob_next\u001b[0m\u001b[0;34m,\u001b[0m\u001b[0mreward\u001b[0m\u001b[0;34m,\u001b[0m\u001b[0mdone\u001b[0m\u001b[0;34m,\u001b[0m\u001b[0minfo\u001b[0m \u001b[0;34m=\u001b[0m \u001b[0menv\u001b[0m\u001b[0;34m.\u001b[0m\u001b[0mstep\u001b[0m\u001b[0;34m(\u001b[0m\u001b[0mact\u001b[0m\u001b[0;34m)\u001b[0m\u001b[0;34m\u001b[0m\u001b[0;34m\u001b[0m\u001b[0m\n",
      "\u001b[0m\n"
     ]
    },
    {
     "name": "stdin",
     "output_type": "stream",
     "text": [
      "ipdb>  n\n"
     ]
    },
    {
     "name": "stdout",
     "output_type": "stream",
     "text": [
      "> \u001b[0;32m<ipython-input-5-2fc4fbb75cff>\u001b[0m(32)\u001b[0;36mget_q_value\u001b[0;34m()\u001b[0m\n",
      "\u001b[0;32m     30 \u001b[0;31m        \u001b[0;31m# state is obwrapper.packup\u001b[0m\u001b[0;34m\u001b[0m\u001b[0;34m\u001b[0m\u001b[0;34m\u001b[0m\u001b[0m\n",
      "\u001b[0m\u001b[0;32m     31 \u001b[0;31m        \u001b[0mset_trace\u001b[0m\u001b[0;34m(\u001b[0m\u001b[0;34m)\u001b[0m\u001b[0;34m\u001b[0m\u001b[0;34m\u001b[0m\u001b[0m\n",
      "\u001b[0m\u001b[0;32m---> 32 \u001b[0;31m        \u001b[0mq\u001b[0m \u001b[0;34m=\u001b[0m \u001b[0mself\u001b[0m\u001b[0;34m.\u001b[0m\u001b[0mmodel\u001b[0m\u001b[0;34m.\u001b[0m\u001b[0mpredict\u001b[0m\u001b[0;34m(\u001b[0m\u001b[0mstate\u001b[0m\u001b[0;34m)\u001b[0m\u001b[0;34m\u001b[0m\u001b[0;34m\u001b[0m\u001b[0m\n",
      "\u001b[0m\u001b[0;32m     33 \u001b[0;31m        \u001b[0;32mreturn\u001b[0m \u001b[0mq\u001b[0m\u001b[0;34m\u001b[0m\u001b[0;34m\u001b[0m\u001b[0m\n",
      "\u001b[0m\u001b[0;32m     34 \u001b[0;31m\u001b[0;34m\u001b[0m\u001b[0m\n",
      "\u001b[0m\n",
      "--KeyboardInterrupt--\n",
      "\n",
      "KeyboardInterrupt: Interrupted by user\n",
      "> \u001b[0;32m<ipython-input-16-dd977dd218f8>\u001b[0m(26)\u001b[0;36m<module>\u001b[0;34m()\u001b[0m\n",
      "\u001b[0;32m     24 \u001b[0;31m\u001b[0;32mwhile\u001b[0m\u001b[0;34m(\u001b[0m\u001b[0;36m1\u001b[0m\u001b[0;34m)\u001b[0m\u001b[0;34m:\u001b[0m\u001b[0;34m\u001b[0m\u001b[0;34m\u001b[0m\u001b[0m\n",
      "\u001b[0m\u001b[0;32m     25 \u001b[0;31m    \u001b[0mpng_save\u001b[0m\u001b[0;34m(\u001b[0m\u001b[0mDIR_FINAL\u001b[0m\u001b[0;34m,\u001b[0m\u001b[0menv\u001b[0m\u001b[0;34m,\u001b[0m\u001b[0mstep\u001b[0m\u001b[0;34m)\u001b[0m\u001b[0;34m\u001b[0m\u001b[0;34m\u001b[0m\u001b[0m\n",
      "\u001b[0m\u001b[0;32m---> 26 \u001b[0;31m    \u001b[0mset_trace\u001b[0m\u001b[0;34m(\u001b[0m\u001b[0;34m)\u001b[0m\u001b[0;34m\u001b[0m\u001b[0;34m\u001b[0m\u001b[0m\n",
      "\u001b[0m\u001b[0;32m     27 \u001b[0;31m    \u001b[0mstate\u001b[0m\u001b[0;34m(\u001b[0m\u001b[0mob\u001b[0m\u001b[0;34m)\u001b[0m\u001b[0;34m\u001b[0m\u001b[0;34m\u001b[0m\u001b[0m\n",
      "\u001b[0m\u001b[0;32m     28 \u001b[0;31m    \u001b[0mstate_np\u001b[0m \u001b[0;34m=\u001b[0m \u001b[0mstate\u001b[0m\u001b[0;34m.\u001b[0m\u001b[0mpackup\u001b[0m\u001b[0;34m(\u001b[0m\u001b[0;34m)\u001b[0m\u001b[0;34m\u001b[0m\u001b[0;34m\u001b[0m\u001b[0m\n",
      "\u001b[0m\n",
      "--KeyboardInterrupt--\n",
      "\n",
      "KeyboardInterrupt: Interrupted by user\n",
      "> \u001b[0;32m<ipython-input-5-2fc4fbb75cff>\u001b[0m(32)\u001b[0;36mget_q_value\u001b[0;34m()\u001b[0m\n",
      "\u001b[0;32m     30 \u001b[0;31m        \u001b[0;31m# state is obwrapper.packup\u001b[0m\u001b[0;34m\u001b[0m\u001b[0;34m\u001b[0m\u001b[0;34m\u001b[0m\u001b[0m\n",
      "\u001b[0m\u001b[0;32m     31 \u001b[0;31m        \u001b[0mset_trace\u001b[0m\u001b[0;34m(\u001b[0m\u001b[0;34m)\u001b[0m\u001b[0;34m\u001b[0m\u001b[0;34m\u001b[0m\u001b[0m\n",
      "\u001b[0m\u001b[0;32m---> 32 \u001b[0;31m        \u001b[0mq\u001b[0m \u001b[0;34m=\u001b[0m \u001b[0mself\u001b[0m\u001b[0;34m.\u001b[0m\u001b[0mmodel\u001b[0m\u001b[0;34m.\u001b[0m\u001b[0mpredict\u001b[0m\u001b[0;34m(\u001b[0m\u001b[0mstate\u001b[0m\u001b[0;34m)\u001b[0m\u001b[0;34m\u001b[0m\u001b[0;34m\u001b[0m\u001b[0m\n",
      "\u001b[0m\u001b[0;32m     33 \u001b[0;31m        \u001b[0;32mreturn\u001b[0m \u001b[0mq\u001b[0m\u001b[0;34m\u001b[0m\u001b[0;34m\u001b[0m\u001b[0m\n",
      "\u001b[0m\u001b[0;32m     34 \u001b[0;31m\u001b[0;34m\u001b[0m\u001b[0m\n",
      "\u001b[0m\n",
      "--KeyboardInterrupt--\n",
      "\n",
      "KeyboardInterrupt: Interrupted by user\n",
      "> \u001b[0;32m<ipython-input-16-dd977dd218f8>\u001b[0m(27)\u001b[0;36m<module>\u001b[0;34m()\u001b[0m\n",
      "\u001b[0;32m     25 \u001b[0;31m    \u001b[0mpng_save\u001b[0m\u001b[0;34m(\u001b[0m\u001b[0mDIR_FINAL\u001b[0m\u001b[0;34m,\u001b[0m\u001b[0menv\u001b[0m\u001b[0;34m,\u001b[0m\u001b[0mstep\u001b[0m\u001b[0;34m)\u001b[0m\u001b[0;34m\u001b[0m\u001b[0;34m\u001b[0m\u001b[0m\n",
      "\u001b[0m\u001b[0;32m     26 \u001b[0;31m    \u001b[0mset_trace\u001b[0m\u001b[0;34m(\u001b[0m\u001b[0;34m)\u001b[0m\u001b[0;34m\u001b[0m\u001b[0;34m\u001b[0m\u001b[0m\n",
      "\u001b[0m\u001b[0;32m---> 27 \u001b[0;31m    \u001b[0mstate\u001b[0m\u001b[0;34m(\u001b[0m\u001b[0mob\u001b[0m\u001b[0;34m)\u001b[0m\u001b[0;34m\u001b[0m\u001b[0;34m\u001b[0m\u001b[0m\n",
      "\u001b[0m\u001b[0;32m     28 \u001b[0;31m    \u001b[0mstate_np\u001b[0m \u001b[0;34m=\u001b[0m \u001b[0mstate\u001b[0m\u001b[0;34m.\u001b[0m\u001b[0mpackup\u001b[0m\u001b[0;34m(\u001b[0m\u001b[0;34m)\u001b[0m\u001b[0;34m\u001b[0m\u001b[0;34m\u001b[0m\u001b[0m\n",
      "\u001b[0m\u001b[0;32m     29 \u001b[0;31m    \u001b[0mact\u001b[0m \u001b[0;34m=\u001b[0m \u001b[0mnp\u001b[0m\u001b[0;34m.\u001b[0m\u001b[0margmax\u001b[0m\u001b[0;34m(\u001b[0m\u001b[0magent\u001b[0m\u001b[0;34m.\u001b[0m\u001b[0mget_q_value\u001b[0m\u001b[0;34m(\u001b[0m\u001b[0mstate_np\u001b[0m\u001b[0;34m.\u001b[0m\u001b[0mreshape\u001b[0m\u001b[0;34m(\u001b[0m\u001b[0;34m-\u001b[0m\u001b[0;36m1\u001b[0m\u001b[0;34m,\u001b[0m\u001b[0mstate\u001b[0m\u001b[0;34m.\u001b[0m\u001b[0ms\u001b[0m\u001b[0;34m[\u001b[0m\u001b[0;36m0\u001b[0m\u001b[0;34m]\u001b[0m\u001b[0;34m.\u001b[0m\u001b[0mshape\u001b[0m\u001b[0;34m[\u001b[0m\u001b[0;36m0\u001b[0m\u001b[0;34m]\u001b[0m\u001b[0;34m,\u001b[0m\u001b[0mstate\u001b[0m\u001b[0;34m.\u001b[0m\u001b[0ms\u001b[0m\u001b[0;34m[\u001b[0m\u001b[0;36m0\u001b[0m\u001b[0;34m]\u001b[0m\u001b[0;34m.\u001b[0m\u001b[0mshape\u001b[0m\u001b[0;34m[\u001b[0m\u001b[0;36m0\u001b[0m\u001b[0;34m]\u001b[0m\u001b[0;34m,\u001b[0m\u001b[0mWRAPPER_SIZE\u001b[0m\u001b[0;34m)\u001b[0m\u001b[0;34m)\u001b[0m\u001b[0;34m)\u001b[0m\u001b[0;34m\u001b[0m\u001b[0;34m\u001b[0m\u001b[0m\n",
      "\u001b[0m\n"
     ]
    },
    {
     "name": "stdin",
     "output_type": "stream",
     "text": [
      "ipdb>  q\n"
     ]
    },
    {
     "ename": "BdbQuit",
     "evalue": "",
     "output_type": "error",
     "traceback": [
      "\u001b[0;31m---------------------------------------------------------------------------\u001b[0m",
      "\u001b[0;31mBdbQuit\u001b[0m                                   Traceback (most recent call last)",
      "\u001b[0;32m<ipython-input-16-dd977dd218f8>\u001b[0m in \u001b[0;36m<module>\u001b[0;34m\u001b[0m\n\u001b[1;32m     25\u001b[0m     \u001b[0mpng_save\u001b[0m\u001b[0;34m(\u001b[0m\u001b[0mDIR_FINAL\u001b[0m\u001b[0;34m,\u001b[0m\u001b[0menv\u001b[0m\u001b[0;34m,\u001b[0m\u001b[0mstep\u001b[0m\u001b[0;34m)\u001b[0m\u001b[0;34m\u001b[0m\u001b[0;34m\u001b[0m\u001b[0m\n\u001b[1;32m     26\u001b[0m     \u001b[0mset_trace\u001b[0m\u001b[0;34m(\u001b[0m\u001b[0;34m)\u001b[0m\u001b[0;34m\u001b[0m\u001b[0;34m\u001b[0m\u001b[0m\n\u001b[0;32m---> 27\u001b[0;31m     \u001b[0mstate\u001b[0m\u001b[0;34m(\u001b[0m\u001b[0mob\u001b[0m\u001b[0;34m)\u001b[0m\u001b[0;34m\u001b[0m\u001b[0;34m\u001b[0m\u001b[0m\n\u001b[0m\u001b[1;32m     28\u001b[0m     \u001b[0mstate_np\u001b[0m \u001b[0;34m=\u001b[0m \u001b[0mstate\u001b[0m\u001b[0;34m.\u001b[0m\u001b[0mpackup\u001b[0m\u001b[0;34m(\u001b[0m\u001b[0;34m)\u001b[0m\u001b[0;34m\u001b[0m\u001b[0;34m\u001b[0m\u001b[0m\n\u001b[1;32m     29\u001b[0m     \u001b[0mact\u001b[0m \u001b[0;34m=\u001b[0m \u001b[0mnp\u001b[0m\u001b[0;34m.\u001b[0m\u001b[0margmax\u001b[0m\u001b[0;34m(\u001b[0m\u001b[0magent\u001b[0m\u001b[0;34m.\u001b[0m\u001b[0mget_q_value\u001b[0m\u001b[0;34m(\u001b[0m\u001b[0mstate_np\u001b[0m\u001b[0;34m.\u001b[0m\u001b[0mreshape\u001b[0m\u001b[0;34m(\u001b[0m\u001b[0;34m-\u001b[0m\u001b[0;36m1\u001b[0m\u001b[0;34m,\u001b[0m\u001b[0mstate\u001b[0m\u001b[0;34m.\u001b[0m\u001b[0ms\u001b[0m\u001b[0;34m[\u001b[0m\u001b[0;36m0\u001b[0m\u001b[0;34m]\u001b[0m\u001b[0;34m.\u001b[0m\u001b[0mshape\u001b[0m\u001b[0;34m[\u001b[0m\u001b[0;36m0\u001b[0m\u001b[0;34m]\u001b[0m\u001b[0;34m,\u001b[0m\u001b[0mstate\u001b[0m\u001b[0;34m.\u001b[0m\u001b[0ms\u001b[0m\u001b[0;34m[\u001b[0m\u001b[0;36m0\u001b[0m\u001b[0;34m]\u001b[0m\u001b[0;34m.\u001b[0m\u001b[0mshape\u001b[0m\u001b[0;34m[\u001b[0m\u001b[0;36m0\u001b[0m\u001b[0;34m]\u001b[0m\u001b[0;34m,\u001b[0m\u001b[0mWRAPPER_SIZE\u001b[0m\u001b[0;34m)\u001b[0m\u001b[0;34m)\u001b[0m\u001b[0;34m)\u001b[0m\u001b[0;34m\u001b[0m\u001b[0;34m\u001b[0m\u001b[0m\n",
      "\u001b[0;32m<ipython-input-16-dd977dd218f8>\u001b[0m in \u001b[0;36m<module>\u001b[0;34m\u001b[0m\n\u001b[1;32m     25\u001b[0m     \u001b[0mpng_save\u001b[0m\u001b[0;34m(\u001b[0m\u001b[0mDIR_FINAL\u001b[0m\u001b[0;34m,\u001b[0m\u001b[0menv\u001b[0m\u001b[0;34m,\u001b[0m\u001b[0mstep\u001b[0m\u001b[0;34m)\u001b[0m\u001b[0;34m\u001b[0m\u001b[0;34m\u001b[0m\u001b[0m\n\u001b[1;32m     26\u001b[0m     \u001b[0mset_trace\u001b[0m\u001b[0;34m(\u001b[0m\u001b[0;34m)\u001b[0m\u001b[0;34m\u001b[0m\u001b[0;34m\u001b[0m\u001b[0m\n\u001b[0;32m---> 27\u001b[0;31m     \u001b[0mstate\u001b[0m\u001b[0;34m(\u001b[0m\u001b[0mob\u001b[0m\u001b[0;34m)\u001b[0m\u001b[0;34m\u001b[0m\u001b[0;34m\u001b[0m\u001b[0m\n\u001b[0m\u001b[1;32m     28\u001b[0m     \u001b[0mstate_np\u001b[0m \u001b[0;34m=\u001b[0m \u001b[0mstate\u001b[0m\u001b[0;34m.\u001b[0m\u001b[0mpackup\u001b[0m\u001b[0;34m(\u001b[0m\u001b[0;34m)\u001b[0m\u001b[0;34m\u001b[0m\u001b[0;34m\u001b[0m\u001b[0m\n\u001b[1;32m     29\u001b[0m     \u001b[0mact\u001b[0m \u001b[0;34m=\u001b[0m \u001b[0mnp\u001b[0m\u001b[0;34m.\u001b[0m\u001b[0margmax\u001b[0m\u001b[0;34m(\u001b[0m\u001b[0magent\u001b[0m\u001b[0;34m.\u001b[0m\u001b[0mget_q_value\u001b[0m\u001b[0;34m(\u001b[0m\u001b[0mstate_np\u001b[0m\u001b[0;34m.\u001b[0m\u001b[0mreshape\u001b[0m\u001b[0;34m(\u001b[0m\u001b[0;34m-\u001b[0m\u001b[0;36m1\u001b[0m\u001b[0;34m,\u001b[0m\u001b[0mstate\u001b[0m\u001b[0;34m.\u001b[0m\u001b[0ms\u001b[0m\u001b[0;34m[\u001b[0m\u001b[0;36m0\u001b[0m\u001b[0;34m]\u001b[0m\u001b[0;34m.\u001b[0m\u001b[0mshape\u001b[0m\u001b[0;34m[\u001b[0m\u001b[0;36m0\u001b[0m\u001b[0;34m]\u001b[0m\u001b[0;34m,\u001b[0m\u001b[0mstate\u001b[0m\u001b[0;34m.\u001b[0m\u001b[0ms\u001b[0m\u001b[0;34m[\u001b[0m\u001b[0;36m0\u001b[0m\u001b[0;34m]\u001b[0m\u001b[0;34m.\u001b[0m\u001b[0mshape\u001b[0m\u001b[0;34m[\u001b[0m\u001b[0;36m0\u001b[0m\u001b[0;34m]\u001b[0m\u001b[0;34m,\u001b[0m\u001b[0mWRAPPER_SIZE\u001b[0m\u001b[0;34m)\u001b[0m\u001b[0;34m)\u001b[0m\u001b[0;34m)\u001b[0m\u001b[0;34m\u001b[0m\u001b[0;34m\u001b[0m\u001b[0m\n",
      "\u001b[0;32m~/anaconda3/envs/tf/lib/python3.7/bdb.py\u001b[0m in \u001b[0;36mtrace_dispatch\u001b[0;34m(self, frame, event, arg)\u001b[0m\n\u001b[1;32m     86\u001b[0m             \u001b[0;32mreturn\u001b[0m \u001b[0;31m# None\u001b[0m\u001b[0;34m\u001b[0m\u001b[0;34m\u001b[0m\u001b[0m\n\u001b[1;32m     87\u001b[0m         \u001b[0;32mif\u001b[0m \u001b[0mevent\u001b[0m \u001b[0;34m==\u001b[0m \u001b[0;34m'line'\u001b[0m\u001b[0;34m:\u001b[0m\u001b[0;34m\u001b[0m\u001b[0;34m\u001b[0m\u001b[0m\n\u001b[0;32m---> 88\u001b[0;31m             \u001b[0;32mreturn\u001b[0m \u001b[0mself\u001b[0m\u001b[0;34m.\u001b[0m\u001b[0mdispatch_line\u001b[0m\u001b[0;34m(\u001b[0m\u001b[0mframe\u001b[0m\u001b[0;34m)\u001b[0m\u001b[0;34m\u001b[0m\u001b[0;34m\u001b[0m\u001b[0m\n\u001b[0m\u001b[1;32m     89\u001b[0m         \u001b[0;32mif\u001b[0m \u001b[0mevent\u001b[0m \u001b[0;34m==\u001b[0m \u001b[0;34m'call'\u001b[0m\u001b[0;34m:\u001b[0m\u001b[0;34m\u001b[0m\u001b[0;34m\u001b[0m\u001b[0m\n\u001b[1;32m     90\u001b[0m             \u001b[0;32mreturn\u001b[0m \u001b[0mself\u001b[0m\u001b[0;34m.\u001b[0m\u001b[0mdispatch_call\u001b[0m\u001b[0;34m(\u001b[0m\u001b[0mframe\u001b[0m\u001b[0;34m,\u001b[0m \u001b[0marg\u001b[0m\u001b[0;34m)\u001b[0m\u001b[0;34m\u001b[0m\u001b[0;34m\u001b[0m\u001b[0m\n",
      "\u001b[0;32m~/anaconda3/envs/tf/lib/python3.7/bdb.py\u001b[0m in \u001b[0;36mdispatch_line\u001b[0;34m(self, frame)\u001b[0m\n\u001b[1;32m    111\u001b[0m         \u001b[0;32mif\u001b[0m \u001b[0mself\u001b[0m\u001b[0;34m.\u001b[0m\u001b[0mstop_here\u001b[0m\u001b[0;34m(\u001b[0m\u001b[0mframe\u001b[0m\u001b[0;34m)\u001b[0m \u001b[0;32mor\u001b[0m \u001b[0mself\u001b[0m\u001b[0;34m.\u001b[0m\u001b[0mbreak_here\u001b[0m\u001b[0;34m(\u001b[0m\u001b[0mframe\u001b[0m\u001b[0;34m)\u001b[0m\u001b[0;34m:\u001b[0m\u001b[0;34m\u001b[0m\u001b[0;34m\u001b[0m\u001b[0m\n\u001b[1;32m    112\u001b[0m             \u001b[0mself\u001b[0m\u001b[0;34m.\u001b[0m\u001b[0muser_line\u001b[0m\u001b[0;34m(\u001b[0m\u001b[0mframe\u001b[0m\u001b[0;34m)\u001b[0m\u001b[0;34m\u001b[0m\u001b[0;34m\u001b[0m\u001b[0m\n\u001b[0;32m--> 113\u001b[0;31m             \u001b[0;32mif\u001b[0m \u001b[0mself\u001b[0m\u001b[0;34m.\u001b[0m\u001b[0mquitting\u001b[0m\u001b[0;34m:\u001b[0m \u001b[0;32mraise\u001b[0m \u001b[0mBdbQuit\u001b[0m\u001b[0;34m\u001b[0m\u001b[0;34m\u001b[0m\u001b[0m\n\u001b[0m\u001b[1;32m    114\u001b[0m         \u001b[0;32mreturn\u001b[0m \u001b[0mself\u001b[0m\u001b[0;34m.\u001b[0m\u001b[0mtrace_dispatch\u001b[0m\u001b[0;34m\u001b[0m\u001b[0;34m\u001b[0m\u001b[0m\n\u001b[1;32m    115\u001b[0m \u001b[0;34m\u001b[0m\u001b[0m\n",
      "\u001b[0;31mBdbQuit\u001b[0m: "
     ]
    }
   ],
   "source": [
    "print('Test the final round')\n",
    "# observe the final run\n",
    "\n",
    "DIR_FINAL = os.path.join(DIR,'final')\n",
    "try:\n",
    "    os.mkdir(DIR_FINAL)\n",
    "except:\n",
    "    pass\n",
    "\n",
    "log_file = open(DIR+'/log.txt','a')\n",
    "\n",
    "ob = env.reset()\n",
    "reward_list = []\n",
    "step = 0\n",
    "\n",
    "state      = ObWrapper(WRAPPER_SIZE=WRAPPER_SIZE)\n",
    "state_next = ObWrapper(WRAPPER_SIZE=WRAPPER_SIZE)\n",
    "state_next(ob)\n",
    "\n",
    "while (len(state_next) is not WRAPPER_SIZE):\n",
    "    state(ob)\n",
    "    state_next(ob)\n",
    "\n",
    "while(1):\n",
    "    png_save(DIR_FINAL,env,step)\n",
    "    set_trace()\n",
    "    state(ob)\n",
    "    state_np = state.packup()\n",
    "    act = np.argmax(agent.get_q_value(state_np.reshape(-1,state.s[0].shape[0],state.s[0].shape[0],WRAPPER_SIZE)))\n",
    "\n",
    "    ob_next,reward,done,info = env.step(act)\n",
    "    state_next(ob_next)\n",
    "    \n",
    "    reward_list.append(reward)\n",
    "    step +=1\n",
    "    ob = ob_next\n",
    "    \n",
    "    if done:\n",
    "        out = 'Final: ave rewards - {}, step - {}\\n'.format(sum(reward_list)/len(reward_list),step)\n",
    "        log_file.writelines(out)\n",
    "        print(out)\n",
    "        break\n",
    "        \n",
    "gif_save()\n",
    "       \n",
    "log_file.close()\n",
    "env.close()\n",
    "print(\"Done\")"
   ]
  },
  {
   "cell_type": "markdown",
   "metadata": {},
   "source": [
    "## Try thins here"
   ]
  },
  {
   "cell_type": "markdown",
   "metadata": {},
   "source": [
    "### Try for ObWrapper"
   ]
  },
  {
   "cell_type": "code",
   "execution_count": null,
   "metadata": {},
   "outputs": [],
   "source": [
    "print(type(ob))\n",
    "a.wrapper_append(ob)\n",
    "print(a.wrapper_len())"
   ]
  },
  {
   "cell_type": "code",
   "execution_count": null,
   "metadata": {},
   "outputs": [],
   "source": [
    "print(a.s[0].shape)\n",
    "plt.imshow(a.s[0])\n",
    "plt.show()"
   ]
  },
  {
   "cell_type": "markdown",
   "metadata": {},
   "source": [
    "### Class seperately"
   ]
  },
  {
   "cell_type": "code",
   "execution_count": null,
   "metadata": {},
   "outputs": [],
   "source": [
    "# make sure import deque from collections \n",
    "# and opencv(cv2)\n",
    "# and numpy as np\n",
    "class ObWrapper:\n",
    "    def __init__(self, WRAPPER_SIZE = 4):\n",
    "        self.WRAPPER_SIZE = WRAPPER_SIZE\n",
    "        self.s = deque([],maxlen = WRAPPER_SIZE) #wrapper how many frame together\n",
    "    def __call__(self,ob):\n",
    "        self.s.append((cv2.cvtColor(ob,cv2.COLOR_BGR2GRAY))[::2,::2][17:97,:])\n",
    "    def __len__(self):\n",
    "        return len(self.s)\n",
    "    def packup(self):\n",
    "        a = np.array([self.s[i] for i in range(self.WRAPPER_SIZE)])\n",
    "        b = np.transpose(a,(1,2,0))  # or b = np.einsum('ijk->jki',a)\n",
    "        return b"
   ]
  },
  {
   "cell_type": "code",
   "execution_count": null,
   "metadata": {},
   "outputs": [],
   "source": [
    "# make sure import random\n",
    "# and deque from collections\n",
    "class Replay:\n",
    "    def __init__(self, MEMORY_SIZE = 5_000, BATCH_SIZE = 64):\n",
    "        self.BATCH_SIZE = BATCH_SIZE\n",
    "        self.memory = deque([],maxlen = MEMORY_SIZE)\n",
    "    def __call__(self, a_set_memory):\n",
    "        # a_set_memory = sars(a) : [ob, act, reward, ob_next, done]\n",
    "        self.memory.append(a_set_memory)\n",
    "    def sample(self,*args):\n",
    "        if args:\n",
    "            b_size = args[0]\n",
    "        else:\n",
    "            b_size = self.BATCH_SIZE\n",
    "        return random.sample(self.memory,b_size)"
   ]
  },
  {
   "cell_type": "markdown",
   "metadata": {},
   "source": [
    "### Try image resize and 4 frame for input"
   ]
  },
  {
   "cell_type": "code",
   "execution_count": null,
   "metadata": {},
   "outputs": [],
   "source": [
    "DIR = 'gif'\n",
    "try:\n",
    "    os.mkdir(DIR)\n",
    "except:\n",
    "    pass"
   ]
  },
  {
   "cell_type": "code",
   "execution_count": null,
   "metadata": {},
   "outputs": [],
   "source": [
    "ob = env.reset()\n",
    "state = ObWrapper()\n",
    "state_next = ObWrapper()\n",
    "state_next(ob)\n",
    "for i in range(5):\n",
    "    plt.imsave(os.path.join(DIR,str(i)+'.png'),env.render(mode='rgb_array'))\n",
    "    act = env.action_space.sample()\n",
    "    state(ob)\n",
    "    \n",
    "    ob_next,reward, done, info = env.step(act)\n",
    "    state_next(ob_next)\n",
    "    ob = ob_next"
   ]
  },
  {
   "cell_type": "code",
   "execution_count": null,
   "metadata": {},
   "outputs": [],
   "source": [
    "print(len(state))\n",
    "print(len(state_next))\n",
    "\n",
    "print(np.array_equal(state.s[1],state_next.s[0]))\n",
    "print(np.array_equal(state.s[2],state_next.s[1]))\n",
    "print(np.array_equal(state.s[3],state_next.s[2]))\n",
    "\n",
    "print(state.s[0].shape)"
   ]
  },
  {
   "cell_type": "code",
   "execution_count": null,
   "metadata": {},
   "outputs": [],
   "source": [
    "plt.subplot(131)\n",
    "plt.imshow(state.s[1],cmap = 'gray')\n",
    "plt.axis('off')\n",
    "plt.subplot(132)\n",
    "plt.imshow(state.s[2],cmap = 'gray')\n",
    "plt.axis('off')\n",
    "plt.subplot(133)\n",
    "plt.imshow(state.s[3],cmap = 'gray')\n",
    "plt.axis('off')\n",
    "plt.show()\n",
    "\n",
    "plt.subplot(131)\n",
    "plt.imshow(state_next.s[0],cmap = 'gray')\n",
    "plt.axis('off')\n",
    "plt.subplot(132)\n",
    "plt.imshow(state_next.s[1],cmap = 'gray')\n",
    "plt.axis('off')\n",
    "plt.subplot(133)\n",
    "plt.imshow(state_next.s[2],cmap = 'gray')\n",
    "plt.axis('off')\n",
    "plt.show()"
   ]
  },
  {
   "cell_type": "markdown",
   "metadata": {},
   "source": [
    "### Try GIF display in jupyter"
   ]
  },
  {
   "cell_type": "code",
   "execution_count": null,
   "metadata": {},
   "outputs": [],
   "source": [
    "DIR = 'gif'\n",
    "os.mkdir(DIR)"
   ]
  },
  {
   "cell_type": "code",
   "execution_count": null,
   "metadata": {},
   "outputs": [],
   "source": [
    "ob = env.reset()\n",
    "\n",
    "for i in range(20):\n",
    "    plt.imsave(os.path.join(DIR,str(i)+'.png'),env.render(mode='rgb_array'))\n",
    "    env.step(env.action_space.sample())\n",
    "\n",
    "images = []\n",
    "for f in os.listdir(DIR):\n",
    "    images.append(imageio.imread(os.path.join(DIR,f)))\n",
    "imageio.mimsave(os.path.join(DIR,'test.gif'),images)"
   ]
  },
  {
   "cell_type": "code",
   "execution_count": null,
   "metadata": {},
   "outputs": [],
   "source": [
    "from IPython.display import Image\n",
    "Image(os.path.join(DIR,'test.gif'))"
   ]
  },
  {
   "cell_type": "code",
   "execution_count": null,
   "metadata": {},
   "outputs": [],
   "source": [
    "a = [84,84]\n",
    "print(tuple(a))"
   ]
  },
  {
   "cell_type": "code",
   "execution_count": null,
   "metadata": {},
   "outputs": [],
   "source": [
    "print(cv2.resize(cv2.cvtColor(ob,cv2.COLOR_BGR2GRAY),tuple(a)).shape)\n",
    "plt.imshow(cv2.cvtColor(ob,cv2.COLOR_BGR2GRAY),cmap=\"gray\")\n",
    "plt.show()\n",
    "plt.imshow(cv2.resize(cv2.cvtColor(ob,cv2.COLOR_BGR2GRAY),tuple(a)),cmap=\"gray\")\n",
    "plt.show()"
   ]
  },
  {
   "cell_type": "code",
   "execution_count": null,
   "metadata": {},
   "outputs": [],
   "source": []
  }
 ],
 "metadata": {
  "kernelspec": {
   "display_name": "Python 3",
   "language": "python",
   "name": "python3"
  },
  "language_info": {
   "codemirror_mode": {
    "name": "ipython",
    "version": 3
   },
   "file_extension": ".py",
   "mimetype": "text/x-python",
   "name": "python",
   "nbconvert_exporter": "python",
   "pygments_lexer": "ipython3",
   "version": "3.7.9"
  },
  "toc-autonumbering": true,
  "toc-showcode": false,
  "toc-showmarkdowntxt": false
 },
 "nbformat": 4,
 "nbformat_minor": 4
}
