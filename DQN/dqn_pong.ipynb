{
 "cells": [
  {
   "cell_type": "markdown",
   "metadata": {},
   "source": [
    "# Atari Pong"
   ]
  },
  {
   "cell_type": "code",
   "execution_count": 1,
   "metadata": {
    "execution": {
     "iopub.execute_input": "2020-12-09T07:39:49.223926Z",
     "iopub.status.busy": "2020-12-09T07:39:49.223660Z",
     "iopub.status.idle": "2020-12-09T07:39:49.364325Z",
     "shell.execute_reply": "2020-12-09T07:39:49.363970Z",
     "shell.execute_reply.started": "2020-12-09T07:39:49.223898Z"
    }
   },
   "outputs": [],
   "source": [
    "import pdb\n",
    "import tensorflow as tf\n",
    "import matplotlib.pyplot as plt\n",
    "import gym\n",
    "import os\n",
    "import datetime\n",
    "import imageio\n",
    "import numpy as np\n",
    "import argparse\n",
    "import pickle\n",
    "import shutil\n",
    "from DQNAgent import DQN_Agent"
   ]
  },
  {
   "cell_type": "code",
   "execution_count": 2,
   "metadata": {
    "execution": {
     "iopub.execute_input": "2020-12-09T07:42:06.101774Z",
     "iopub.status.busy": "2020-12-09T07:42:06.101537Z",
     "iopub.status.idle": "2020-12-09T07:42:06.104809Z",
     "shell.execute_reply": "2020-12-09T07:42:06.104363Z",
     "shell.execute_reply.started": "2020-12-09T07:42:06.101748Z"
    }
   },
   "outputs": [],
   "source": [
    "class Args:\n",
    "    EPOCHS      = 20\n",
    "    EPSILON     = 0.3\n",
    "    EPSILON_DC  = 0.9997\n",
    "    BATCH_SIZE  = 32\n",
    "    MEMORY_SIZE = 3000"
   ]
  },
  {
   "cell_type": "code",
   "execution_count": 3,
   "metadata": {
    "execution": {
     "iopub.execute_input": "2020-12-09T07:42:20.209809Z",
     "iopub.status.busy": "2020-12-09T07:42:20.209550Z",
     "iopub.status.idle": "2020-12-09T07:42:20.213077Z",
     "shell.execute_reply": "2020-12-09T07:42:20.212674Z",
     "shell.execute_reply.started": "2020-12-09T07:42:20.209773Z"
    }
   },
   "outputs": [],
   "source": [
    "args = Args\n",
    "EPOCHS = args.EPOCHS\n",
    "EPSILON = args.EPSILON\n",
    "EPSILON_DC = args.EPSILON_DC\n",
    "BATCH_SIZE = args.BATCH_SIZE\n",
    "MEMORY_SIZE = args.MEMORY_SIZE"
   ]
  },
  {
   "cell_type": "markdown",
   "metadata": {},
   "source": [
    "## Initial"
   ]
  },
  {
   "cell_type": "code",
   "execution_count": 5,
   "metadata": {
    "execution": {
     "iopub.execute_input": "2020-12-09T07:43:07.301257Z",
     "iopub.status.busy": "2020-12-09T07:43:07.301071Z",
     "iopub.status.idle": "2020-12-09T07:43:07.486121Z",
     "shell.execute_reply": "2020-12-09T07:43:07.485711Z",
     "shell.execute_reply.started": "2020-12-09T07:43:07.301234Z"
    }
   },
   "outputs": [],
   "source": [
    "env_name = 'Pong-v0'\n",
    "env = gym.make(env_name)\n",
    "\n",
    "N_ACT = env.action_space.n\n",
    "N_OB  = env.observation_space.shape"
   ]
  },
  {
   "cell_type": "code",
   "execution_count": 6,
   "metadata": {
    "execution": {
     "iopub.execute_input": "2020-12-09T07:43:17.120283Z",
     "iopub.status.busy": "2020-12-09T07:43:17.120031Z",
     "iopub.status.idle": "2020-12-09T07:43:17.123486Z",
     "shell.execute_reply": "2020-12-09T07:43:17.122987Z",
     "shell.execute_reply.started": "2020-12-09T07:43:17.120256Z"
    }
   },
   "outputs": [
    {
     "name": "stdout",
     "output_type": "stream",
     "text": [
      "6 (210, 160, 3)\n"
     ]
    }
   ],
   "source": [
    "print(N_ACT,N_OB)"
   ]
  },
  {
   "cell_type": "code",
   "execution_count": null,
   "metadata": {},
   "outputs": [],
   "source": []
  }
 ],
 "metadata": {
  "kernelspec": {
   "display_name": "Python 3",
   "language": "python",
   "name": "python3"
  },
  "language_info": {
   "codemirror_mode": {
    "name": "ipython",
    "version": 3
   },
   "file_extension": ".py",
   "mimetype": "text/x-python",
   "name": "python",
   "nbconvert_exporter": "python",
   "pygments_lexer": "ipython3",
   "version": "3.7.9"
  }
 },
 "nbformat": 4,
 "nbformat_minor": 4
}
