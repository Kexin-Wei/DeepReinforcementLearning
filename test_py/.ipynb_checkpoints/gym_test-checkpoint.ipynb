{
 "cells": [
  {
   "cell_type": "code",
   "execution_count": 1,
   "metadata": {
    "execution": {
     "iopub.execute_input": "2020-12-07T13:53:45.152656Z",
     "iopub.status.busy": "2020-12-07T13:53:45.152379Z",
     "iopub.status.idle": "2020-12-07T13:53:45.352865Z",
     "shell.execute_reply": "2020-12-07T13:53:45.352433Z",
     "shell.execute_reply.started": "2020-12-07T13:53:45.152582Z"
    }
   },
   "outputs": [],
   "source": [
    "%matplotlib widget\n",
    "import gym\n",
    "import matplotlib.pyplot as plt\n",
    "import os"
   ]
  },
  {
   "cell_type": "code",
   "execution_count": 2,
   "metadata": {
    "execution": {
     "iopub.execute_input": "2020-12-07T13:53:51.117111Z",
     "iopub.status.busy": "2020-12-07T13:53:51.116890Z",
     "iopub.status.idle": "2020-12-07T13:53:51.119801Z",
     "shell.execute_reply": "2020-12-07T13:53:51.119289Z",
     "shell.execute_reply.started": "2020-12-07T13:53:51.117086Z"
    }
   },
   "outputs": [],
   "source": [
    "DIR = \"../../gym_graph\""
   ]
  },
  {
   "cell_type": "code",
   "execution_count": 3,
   "metadata": {
    "execution": {
     "iopub.execute_input": "2020-12-07T13:53:57.336358Z",
     "iopub.status.busy": "2020-12-07T13:53:57.336132Z",
     "iopub.status.idle": "2020-12-07T13:53:57.510083Z",
     "shell.execute_reply": "2020-12-07T13:53:57.509513Z",
     "shell.execute_reply.started": "2020-12-07T13:53:57.336332Z"
    }
   },
   "outputs": [
    {
     "data": {
      "application/vnd.jupyter.widget-view+json": {
       "model_id": "4185fe697dc3498da8e777b8232edc98",
       "version_major": 2,
       "version_minor": 0
      },
      "text/plain": [
       "Canvas(toolbar=Toolbar(toolitems=[('Home', 'Reset original view', 'home', 'home'), ('Back', 'Back to previous …"
      ]
     },
     "metadata": {},
     "output_type": "display_data"
    },
    {
     "name": "stdout",
     "output_type": "stream",
     "text": [
      "(210, 160, 3)\n"
     ]
    }
   ],
   "source": [
    "env = gym.make('Breakout-v0')\n",
    "env.reset()\n",
    "img = plt.imshow(env.render(mode='rgb_array')) # only call this once\n",
    "print(env.render(mode='rgb_array').shape)"
   ]
  },
  {
   "cell_type": "code",
   "execution_count": 4,
   "metadata": {
    "execution": {
     "iopub.execute_input": "2020-12-07T13:54:12.743810Z",
     "iopub.status.busy": "2020-12-07T13:54:12.743583Z",
     "iopub.status.idle": "2020-12-07T13:54:13.089251Z",
     "shell.execute_reply": "2020-12-07T13:54:13.088937Z",
     "shell.execute_reply.started": "2020-12-07T13:54:12.743784Z"
    }
   },
   "outputs": [],
   "source": [
    "for i in range(1000):\n",
    "    if i % 100 == 0:\n",
    "        img.set_data(env.render(mode='rgb_array'))\n",
    "        plt.gcf()\n",
    "        plt.savefig(os.path.join(DIR,str(i)+'.png'))\n",
    "    env.step(env.action_space.sample())"
   ]
  },
  {
   "cell_type": "code",
   "execution_count": 3,
   "metadata": {
    "execution": {
     "iopub.execute_input": "2020-12-07T13:34:45.945574Z",
     "iopub.status.busy": "2020-12-07T13:34:45.945356Z",
     "iopub.status.idle": "2020-12-07T13:34:45.949154Z",
     "shell.execute_reply": "2020-12-07T13:34:45.948609Z",
     "shell.execute_reply.started": "2020-12-07T13:34:45.945548Z"
    }
   },
   "outputs": [],
   "source": [
    "display.clear_output(wait=True)"
   ]
  },
  {
   "cell_type": "code",
   "execution_count": null,
   "metadata": {},
   "outputs": [],
   "source": []
  }
 ],
 "metadata": {
  "kernelspec": {
   "display_name": "Python 3",
   "language": "python",
   "name": "python3"
  },
  "language_info": {
   "codemirror_mode": {
    "name": "ipython",
    "version": 3
   },
   "file_extension": ".py",
   "mimetype": "text/x-python",
   "name": "python",
   "nbconvert_exporter": "python",
   "pygments_lexer": "ipython3",
   "version": "3.7.9"
  }
 },
 "nbformat": 4,
 "nbformat_minor": 4
}
